{
 "cells": [
  {
   "cell_type": "code",
   "execution_count": 1,
   "metadata": {
    "deletable": false,
    "editable": false
   },
   "outputs": [],
   "source": [
    "# Initialize Otter\n",
    "import otter\n",
    "grader = otter.Notebook()"
   ]
  },
  {
   "cell_type": "markdown",
   "metadata": {
    "nbgrader": {
     "grade": false,
     "grade_id": "intro",
     "locked": true,
     "schema_version": 2,
     "solution": false
    }
   },
   "source": [
    "# Lab 11 Decision Trees and Random Forests\n",
    "\n",
    "In this assignment, we will have you train a multi-class classifier with three different models (one-vs-rest logistic regression, decision tree, random forest) and compare the accuracies and decision boundaries created by each. We'll be looking at a dataset of per-game stats for all NBA players in the 2018-19 season. This dataset comes from [basketball-reference.com](https://www.basketball-reference.com/).\n",
    "\n",
    "### Due Date\n",
    "\n",
    "This assignment is due on Monday, November 16th at 11:59 pm PT.\n",
    "\n",
    "### Collaboration Policy\n",
    "\n",
    "Data science is a collaborative activity. While you may talk with others about this assignment, we ask that you **write your solutions individually**. If you discuss the assignment with others, please **include their names** in the cell below."
   ]
  },
  {
   "cell_type": "markdown",
   "metadata": {},
   "source": [
    "**Collaborators:** *list names here*"
   ]
  },
  {
   "cell_type": "code",
   "execution_count": 2,
   "metadata": {
    "nbgrader": {
     "grade": false,
     "grade_id": "imports",
     "locked": true,
     "schema_version": 2,
     "solution": false
    }
   },
   "outputs": [],
   "source": [
    "import numpy as np\n",
    "import pandas as pd\n",
    "import matplotlib.pyplot as plt\n",
    "from matplotlib.colors import ListedColormap\n",
    "import seaborn as sns\n",
    "\n",
    "from sklearn.linear_model import LogisticRegression\n",
    "from sklearn.model_selection import train_test_split\n",
    "from sklearn import tree\n",
    "# ignore the warning you might get from importing ensemble from sklearn\n",
    "from sklearn import ensemble"
   ]
  },
  {
   "cell_type": "code",
   "execution_count": 3,
   "metadata": {},
   "outputs": [
    {
     "data": {
      "text/html": [
       "<div>\n",
       "<style scoped>\n",
       "    .dataframe tbody tr th:only-of-type {\n",
       "        vertical-align: middle;\n",
       "    }\n",
       "\n",
       "    .dataframe tbody tr th {\n",
       "        vertical-align: top;\n",
       "    }\n",
       "\n",
       "    .dataframe thead th {\n",
       "        text-align: right;\n",
       "    }\n",
       "</style>\n",
       "<table border=\"1\" class=\"dataframe\">\n",
       "  <thead>\n",
       "    <tr style=\"text-align: right;\">\n",
       "      <th></th>\n",
       "      <th>Rk</th>\n",
       "      <th>Player</th>\n",
       "      <th>Pos</th>\n",
       "      <th>Age</th>\n",
       "      <th>Tm</th>\n",
       "      <th>G</th>\n",
       "      <th>GS</th>\n",
       "      <th>MP</th>\n",
       "      <th>FG</th>\n",
       "      <th>FGA</th>\n",
       "      <th>...</th>\n",
       "      <th>FT%</th>\n",
       "      <th>ORB</th>\n",
       "      <th>DRB</th>\n",
       "      <th>TRB</th>\n",
       "      <th>AST</th>\n",
       "      <th>STL</th>\n",
       "      <th>BLK</th>\n",
       "      <th>TOV</th>\n",
       "      <th>PF</th>\n",
       "      <th>PTS</th>\n",
       "    </tr>\n",
       "  </thead>\n",
       "  <tbody>\n",
       "    <tr>\n",
       "      <th>0</th>\n",
       "      <td>1</td>\n",
       "      <td>Álex Abrines\\abrinal01</td>\n",
       "      <td>SG</td>\n",
       "      <td>25</td>\n",
       "      <td>OKC</td>\n",
       "      <td>31</td>\n",
       "      <td>2</td>\n",
       "      <td>19.0</td>\n",
       "      <td>1.8</td>\n",
       "      <td>5.1</td>\n",
       "      <td>...</td>\n",
       "      <td>0.923</td>\n",
       "      <td>0.2</td>\n",
       "      <td>1.4</td>\n",
       "      <td>1.5</td>\n",
       "      <td>0.6</td>\n",
       "      <td>0.5</td>\n",
       "      <td>0.2</td>\n",
       "      <td>0.5</td>\n",
       "      <td>1.7</td>\n",
       "      <td>5.3</td>\n",
       "    </tr>\n",
       "    <tr>\n",
       "      <th>1</th>\n",
       "      <td>2</td>\n",
       "      <td>Quincy Acy\\acyqu01</td>\n",
       "      <td>PF</td>\n",
       "      <td>28</td>\n",
       "      <td>PHO</td>\n",
       "      <td>10</td>\n",
       "      <td>0</td>\n",
       "      <td>12.3</td>\n",
       "      <td>0.4</td>\n",
       "      <td>1.8</td>\n",
       "      <td>...</td>\n",
       "      <td>0.700</td>\n",
       "      <td>0.3</td>\n",
       "      <td>2.2</td>\n",
       "      <td>2.5</td>\n",
       "      <td>0.8</td>\n",
       "      <td>0.1</td>\n",
       "      <td>0.4</td>\n",
       "      <td>0.4</td>\n",
       "      <td>2.4</td>\n",
       "      <td>1.7</td>\n",
       "    </tr>\n",
       "    <tr>\n",
       "      <th>2</th>\n",
       "      <td>3</td>\n",
       "      <td>Jaylen Adams\\adamsja01</td>\n",
       "      <td>PG</td>\n",
       "      <td>22</td>\n",
       "      <td>ATL</td>\n",
       "      <td>34</td>\n",
       "      <td>1</td>\n",
       "      <td>12.6</td>\n",
       "      <td>1.1</td>\n",
       "      <td>3.2</td>\n",
       "      <td>...</td>\n",
       "      <td>0.778</td>\n",
       "      <td>0.3</td>\n",
       "      <td>1.4</td>\n",
       "      <td>1.8</td>\n",
       "      <td>1.9</td>\n",
       "      <td>0.4</td>\n",
       "      <td>0.1</td>\n",
       "      <td>0.8</td>\n",
       "      <td>1.3</td>\n",
       "      <td>3.2</td>\n",
       "    </tr>\n",
       "    <tr>\n",
       "      <th>3</th>\n",
       "      <td>4</td>\n",
       "      <td>Steven Adams\\adamsst01</td>\n",
       "      <td>C</td>\n",
       "      <td>25</td>\n",
       "      <td>OKC</td>\n",
       "      <td>80</td>\n",
       "      <td>80</td>\n",
       "      <td>33.4</td>\n",
       "      <td>6.0</td>\n",
       "      <td>10.1</td>\n",
       "      <td>...</td>\n",
       "      <td>0.500</td>\n",
       "      <td>4.9</td>\n",
       "      <td>4.6</td>\n",
       "      <td>9.5</td>\n",
       "      <td>1.6</td>\n",
       "      <td>1.5</td>\n",
       "      <td>1.0</td>\n",
       "      <td>1.7</td>\n",
       "      <td>2.6</td>\n",
       "      <td>13.9</td>\n",
       "    </tr>\n",
       "    <tr>\n",
       "      <th>4</th>\n",
       "      <td>5</td>\n",
       "      <td>Bam Adebayo\\adebaba01</td>\n",
       "      <td>C</td>\n",
       "      <td>21</td>\n",
       "      <td>MIA</td>\n",
       "      <td>82</td>\n",
       "      <td>28</td>\n",
       "      <td>23.3</td>\n",
       "      <td>3.4</td>\n",
       "      <td>5.9</td>\n",
       "      <td>...</td>\n",
       "      <td>0.735</td>\n",
       "      <td>2.0</td>\n",
       "      <td>5.3</td>\n",
       "      <td>7.3</td>\n",
       "      <td>2.2</td>\n",
       "      <td>0.9</td>\n",
       "      <td>0.8</td>\n",
       "      <td>1.5</td>\n",
       "      <td>2.5</td>\n",
       "      <td>8.9</td>\n",
       "    </tr>\n",
       "  </tbody>\n",
       "</table>\n",
       "<p>5 rows × 30 columns</p>\n",
       "</div>"
      ],
      "text/plain": [
       "   Rk                  Player Pos  Age   Tm   G  GS    MP   FG   FGA  ...  \\\n",
       "0   1  Álex Abrines\\abrinal01  SG   25  OKC  31   2  19.0  1.8   5.1  ...   \n",
       "1   2      Quincy Acy\\acyqu01  PF   28  PHO  10   0  12.3  0.4   1.8  ...   \n",
       "2   3  Jaylen Adams\\adamsja01  PG   22  ATL  34   1  12.6  1.1   3.2  ...   \n",
       "3   4  Steven Adams\\adamsst01   C   25  OKC  80  80  33.4  6.0  10.1  ...   \n",
       "4   5   Bam Adebayo\\adebaba01   C   21  MIA  82  28  23.3  3.4   5.9  ...   \n",
       "\n",
       "     FT%  ORB  DRB  TRB  AST  STL  BLK  TOV   PF   PTS  \n",
       "0  0.923  0.2  1.4  1.5  0.6  0.5  0.2  0.5  1.7   5.3  \n",
       "1  0.700  0.3  2.2  2.5  0.8  0.1  0.4  0.4  2.4   1.7  \n",
       "2  0.778  0.3  1.4  1.8  1.9  0.4  0.1  0.8  1.3   3.2  \n",
       "3  0.500  4.9  4.6  9.5  1.6  1.5  1.0  1.7  2.6  13.9  \n",
       "4  0.735  2.0  5.3  7.3  2.2  0.9  0.8  1.5  2.5   8.9  \n",
       "\n",
       "[5 rows x 30 columns]"
      ]
     },
     "execution_count": 3,
     "metadata": {},
     "output_type": "execute_result"
    }
   ],
   "source": [
    "nba_data = pd.read_csv(\"nba18-19.csv\")\n",
    "nba_data.head(5)"
   ]
  },
  {
   "cell_type": "markdown",
   "metadata": {},
   "source": [
    "Our goal will be to predict a player's position given several other features. The 5 positions in basketball are PG, SG, SF, PF, and C (which stand for point guard, shooting guard, small forward, power forward, and center). This information is contained in the `Pos` column."
   ]
  },
  {
   "cell_type": "code",
   "execution_count": 4,
   "metadata": {},
   "outputs": [
    {
     "data": {
      "text/plain": [
       "SG       176\n",
       "PF       147\n",
       "PG       139\n",
       "C        120\n",
       "SF       118\n",
       "SF-SG      2\n",
       "PF-SF      2\n",
       "PF-C       1\n",
       "SG-SF      1\n",
       "C-PF       1\n",
       "SG-PF      1\n",
       "Name: Pos, dtype: int64"
      ]
     },
     "execution_count": 4,
     "metadata": {},
     "output_type": "execute_result"
    }
   ],
   "source": [
    "nba_data['Pos'].value_counts()"
   ]
  },
  {
   "cell_type": "markdown",
   "metadata": {},
   "source": [
    "While we could set out to try and perform 5-class classification, the results (and visualizations) are slightly more interesting if we try and categorize players into 1 of 3 categories: **guard**, **forward**, and **center**. The below code will take the `Pos` column of our dataframe and use it to create a new column `Pos3` that consist of values G, F, and C (which stand for guard, forward, and center)."
   ]
  },
  {
   "cell_type": "code",
   "execution_count": 5,
   "metadata": {},
   "outputs": [
    {
     "data": {
      "text/plain": [
       "G    315\n",
       "F    273\n",
       "C    120\n",
       "Name: Pos3, dtype: int64"
      ]
     },
     "execution_count": 5,
     "metadata": {},
     "output_type": "execute_result"
    }
   ],
   "source": [
    "def basic_position(pos):\n",
    "    if 'F' in pos:\n",
    "        return 'F'\n",
    "    elif 'G' in pos:\n",
    "        return 'G'\n",
    "    return 'C'\n",
    "\n",
    "nba_data['Pos3'] = nba_data['Pos'].apply(basic_position)\n",
    "nba_data['Pos3'].value_counts()"
   ]
  },
  {
   "cell_type": "markdown",
   "metadata": {},
   "source": [
    "Furthermore, since there are **many** players in the NBA (in the 2018-19 season there were 530 unique players), our visualizations can get noisy and messy. Let's restrict our data to only contain rows for players that averaged 10 or more points per game."
   ]
  },
  {
   "cell_type": "code",
   "execution_count": 6,
   "metadata": {},
   "outputs": [],
   "source": [
    "nba_data = nba_data[nba_data['PTS'] > 10]"
   ]
  },
  {
   "cell_type": "markdown",
   "metadata": {},
   "source": [
    "Now, let's look at a scatterplot of Rebounds (`TRB`) vs. Assists (`AST`)."
   ]
  },
  {
   "cell_type": "code",
   "execution_count": 7,
   "metadata": {},
   "outputs": [
    {
     "data": {
      "image/png": "[encoded data removed]",
      "text/plain": [
       "<Figure size 432x288 with 1 Axes>"
      ]
     },
     "metadata": {
      "needs_background": "light"
     },
     "output_type": "display_data"
    }
   ],
   "source": [
    "sns.scatterplot(data = nba_data, x = 'AST', y = 'TRB', hue = 'Pos3');"
   ]
  },
  {
   "cell_type": "markdown",
   "metadata": {},
   "source": [
    "As you can see, when using just rebounds and assists as our features, we see pretty decent cluster separation. That is, Centers, Forwards, and Guards appear in different regions of the plot."
   ]
  },
  {
   "cell_type": "markdown",
   "metadata": {
    "deletable": false,
    "editable": false
   },
   "source": [
    "## Question 1: Evaluating Split Quality\n",
    "\n",
    "We will explore different ways to evaluate split quality for classification and regression trees in this question.\n",
    "\n",
    "### Question 1a\n",
    "\n",
    "In lecture we defined the entropy S of a node as:\n",
    "\n",
    "$$ S = -\\sum_{C} p_C \\log_{2} p_C $$\n",
    "\n",
    "where $p_C$ is the proportion of data points in a node with label $C$. This function helped us determine the unpredictability of a node in a decision tree. \n",
    "\n",
    "Implement the `entropy` function, which outputs the entropy of a node with a given set of labels. The `labels` parameter is a list of labels in our decision tree. For example, `labels` could be `['G', 'G', 'F', 'F', 'C', 'C']`.\n",
    "\n",
    "<!--\n",
    "BEGIN QUESTION\n",
    "name: q1a\n",
    "-->"
   ]
  },
  {
   "cell_type": "code",
   "execution_count": 8,
   "metadata": {},
   "outputs": [
    {
     "data": {
      "text/plain": [
       "1.521555567956027"
      ]
     },
     "execution_count": 8,
     "metadata": {},
     "output_type": "execute_result"
    }
   ],
   "source": [
    "def entropy(labels):\n",
    "    unique_labels = list(np.unique(np.array(labels)))\n",
    "    entropy = 0 \n",
    "    for unique_label in unique_labels:\n",
    "        proportion = sum(unique_label == np.array(labels))/len(labels)\n",
    "        entropy += (proportion) * (np.log2(proportion))\n",
    "    return -entropy\n",
    "\n",
    "entropy(nba_data['Pos3'])"
   ]
  },
  {
   "cell_type": "code",
   "execution_count": 9,
   "metadata": {
    "deletable": false,
    "editable": false
   },
   "outputs": [
    {
     "data": {
      "text/html": [
       "\n",
       "    \n",
       "    \n",
       "        <p>All tests passed!</p>\n",
       "    \n",
       "    "
      ],
      "text/plain": [
       "\n",
       "    All tests passed!\n",
       "    "
      ]
     },
     "execution_count": 9,
     "metadata": {},
     "output_type": "execute_result"
    }
   ],
   "source": [
    "grader.check(\"q1a\")"
   ]
  },
  {
   "cell_type": "markdown",
   "metadata": {
    "deletable": false,
    "editable": false
   },
   "source": [
    "### Question 1b\n",
    "\n",
    "The decision tree visualizations in lecture contained nodes with a `gini` parameter. This depicts the node's Gini impurity, which is the chance that a sample would be misclassified if randomly assigned at this point. Gini impurity is a popular alternative to entropy for determining the best split at a node, and it is in fact the default criterion for scikit-learn's `DecisionTreeClassifier`. We can calculate the Gini impurity of a node with the formula ($p_C$ is the proportion of data points in a node with label $C$):\n",
    "\n",
    "$$ G = 1 - \\sum_{C} {p_C}^2 $$\n",
    "\n",
    "Note that no logarithms are involved in the calculation of Gini impurity, which can make it faster to compute compared to entropy.\n",
    "\n",
    "Implement the `gini_impurity` function, which outputs the Gini impurity of a node with a given set of labels. The `labels` parameter is defined similarly to the previous part.\n",
    "\n",
    "<!--\n",
    "BEGIN QUESTION\n",
    "name: q1b\n",
    "-->"
   ]
  },
  {
   "cell_type": "code",
   "execution_count": 10,
   "metadata": {},
   "outputs": [
    {
     "data": {
      "text/plain": [
       "0.6383398017253514"
      ]
     },
     "execution_count": 10,
     "metadata": {},
     "output_type": "execute_result"
    }
   ],
   "source": [
    "def gini_impurity(labels):\n",
    "    unique_labels = list(np.unique(np.array(labels)))\n",
    "    proportions_squared = 0 \n",
    "    for unique_label in unique_labels:\n",
    "        proportion = sum(unique_label == np.array(labels))/len(labels)\n",
    "        proportions_squared += proportion**2\n",
    "    return 1-proportions_squared\n",
    "\n",
    "gini_impurity(nba_data['Pos3'])"
   ]
  },
  {
   "cell_type": "code",
   "execution_count": 11,
   "metadata": {
    "deletable": false,
    "editable": false
   },
   "outputs": [
    {
     "data": {
      "text/html": [
       "\n",
       "    \n",
       "    \n",
       "        <p>All tests passed!</p>\n",
       "    \n",
       "    "
      ],
      "text/plain": [
       "\n",
       "    All tests passed!\n",
       "    "
      ]
     },
     "execution_count": 11,
     "metadata": {},
     "output_type": "execute_result"
    }
   ],
   "source": [
    "grader.check(\"q1b\")"
   ]
  },
  {
   "cell_type": "markdown",
   "metadata": {},
   "source": [
    "As an optional exercise in probability, try to think of a way to derive the formula for Gini impurity."
   ]
  },
  {
   "cell_type": "markdown",
   "metadata": {
    "deletable": false,
    "editable": false
   },
   "source": [
    "### Question 1c\n",
    "\n",
    "It usually does not make sense to use entropy and Gini impurity for regression trees because the response variable is continuous. However, we can use the variance of the response values in a node as an alternative to entropy and Gini impurity. Recall that the variance is defined as:\n",
    "\n",
    "$$ \\sigma^2 = \\frac{1}{N} \\sum_{i=1}^{N} (x_i - \\mu)^2 $$\n",
    "\n",
    "where $\\mu$ is the mean, $N$ is the total number of data points, and $x_i$ is the value of each data point.\n",
    "\n",
    "Implement the `variance` function which calculates the variance of a list of continuous values.\n",
    "\n",
    "<!--\n",
    "BEGIN QUESTION\n",
    "name: q1c\n",
    "-->"
   ]
  },
  {
   "cell_type": "code",
   "execution_count": 12,
   "metadata": {},
   "outputs": [
    {
     "data": {
      "text/plain": [
       "21.023148263588652"
      ]
     },
     "execution_count": 12,
     "metadata": {},
     "output_type": "execute_result"
    }
   ],
   "source": [
    "def variance(values):\n",
    "    return np.std(values)**2\n",
    "    \n",
    "variance(nba_data['PTS'])"
   ]
  },
  {
   "cell_type": "code",
   "execution_count": 13,
   "metadata": {
    "deletable": false,
    "editable": false
   },
   "outputs": [
    {
     "data": {
      "text/html": [
       "\n",
       "    \n",
       "    \n",
       "        <p>All tests passed!</p>\n",
       "    \n",
       "    "
      ],
      "text/plain": [
       "\n",
       "    All tests passed!\n",
       "    "
      ]
     },
     "execution_count": 13,
     "metadata": {},
     "output_type": "execute_result"
    }
   ],
   "source": [
    "grader.check(\"q1c\")"
   ]
  },
  {
   "cell_type": "markdown",
   "metadata": {
    "deletable": false,
    "editable": false
   },
   "source": [
    "### Question 1d\n",
    "\n",
    "In lecture, we used weighted entropy as a loss function to help us determine the best split. Recall that the weighted entropy is given by:\n",
    "\n",
    "$$ L = \\frac{N_1 S(X) + N_2 S(Y)}{N_1 + N_2} $$\n",
    "\n",
    "$N_1$ is the number of samples in the left node $X$, and $N_2$ is the number of samples in the right node $Y$. This notion of a weighted average can be extended to other metrics such as Gini impurity and variance simply by changing the $S$ (entropy) function to $G$ (Gini impurity) or $\\sigma^2$ (variance).\n",
    "\n",
    "First, implement the `weighted_metric` function. The `left` parameter is a list of labels or values in the left node $X$, and the `right` parameter is a list of labels or values in the right node $Y$. The `metric` parameter is a function which can be `entropy`, `gini_impurity`, or `variance`. For `entropy` and `gini_impurity`, you may assume that `left` and `right` contain discrete labels. For `variance`, you may assume that `left` and `right` contain continuous values.\n",
    "\n",
    "Then, assign `we_pos3_age_30` to the weighted entropy (in the `Pos3` column) of a split that partitions `nba_data` into two groups: a group with players who are 30 years old or older and a group with players who are younger than 30 years old.\n",
    "\n",
    "<!--\n",
    "BEGIN QUESTION\n",
    "name: q1d\n",
    "-->"
   ]
  },
  {
   "cell_type": "code",
   "execution_count": 14,
   "metadata": {},
   "outputs": [
    {
     "data": {
      "text/plain": [
       "1.521489768014793"
      ]
     },
     "execution_count": 14,
     "metadata": {},
     "output_type": "execute_result"
    }
   ],
   "source": [
    "def weighted_metric(left, right, metric):\n",
    "    return ((metric(left)*len(left))+(metric(right)*len(right)))/(len(left)+len(right))\n",
    "\n",
    "we_pos3_age_30 = weighted_metric(nba_data[nba_data['Age']>=30]['Pos3'], nba_data[nba_data['Age']<30]['Pos3'], entropy)\n",
    "we_pos3_age_30"
   ]
  },
  {
   "cell_type": "code",
   "execution_count": 15,
   "metadata": {
    "deletable": false,
    "editable": false
   },
   "outputs": [
    {
     "data": {
      "text/html": [
       "\n",
       "    \n",
       "    \n",
       "        <p>All tests passed!</p>\n",
       "    \n",
       "    "
      ],
      "text/plain": [
       "\n",
       "    All tests passed!\n",
       "    "
      ]
     },
     "execution_count": 15,
     "metadata": {},
     "output_type": "execute_result"
    }
   ],
   "source": [
    "grader.check(\"q1d\")"
   ]
  },
  {
   "cell_type": "markdown",
   "metadata": {},
   "source": [
    "We will not go over the entire decision tree fitting process in this assignment, but you now have the basic tools to fit a decision tree. As an optional exercise, try to think about how you would extend these tools to fit a decision tree from scratch."
   ]
  },
  {
   "cell_type": "markdown",
   "metadata": {},
   "source": [
    "## Question 2: Classification\n",
    "\n",
    "Let's switch gears to classification with the NBA dataset.\n",
    "\n",
    "## One-vs-Rest Logistic Regression\n",
    "\n",
    "We only discussed binary logistic regression in class, but there is a natural extension to binary logistic regression called one-vs-rest logistic regression for multiclass classification. In essence, one-vs-rest logistic regression simply builds one binary logistic regression classifier for each of the $N$ classes (in this scenario $N = 3$). We then predict the class corresponding to the classifier that gives the highest probability among the $N$ classes.\n",
    "\n",
    "Before using logistic regression, let's first split `nba_data` into a training set and test set."
   ]
  },
  {
   "cell_type": "code",
   "execution_count": 16,
   "metadata": {},
   "outputs": [],
   "source": [
    "nba_train, nba_test = train_test_split(nba_data, test_size=0.25, random_state=100)\n",
    "nba_train = nba_train.sort_values(by='Pos')\n",
    "nba_test = nba_test.sort_values(by='Pos')"
   ]
  },
  {
   "cell_type": "markdown",
   "metadata": {
    "deletable": false,
    "editable": false
   },
   "source": [
    "### Question 2a\n",
    "\n",
    "In the cell below, set `logistic_regression_model` to be a one-vs-rest logistic regression model. Then, fit that model using the `AST` and `TRB` columns (in that order) from `nba_train` as our features, and `Pos3` as our response variable.\n",
    "\n",
    "Remember, [`sklearn.linear_model.LogisticRegression`](https://scikit-learn.org/stable/modules/generated/sklearn.linear_model.LogisticRegression.html) has already been imported for you. There is an optional parameter **`multi_class`** you need to specify in order to make your model a multi-class one-vs-rest classifier. See the documentation for more details.\n",
    "\n",
    "<!--\n",
    "BEGIN QUESTION\n",
    "name: q2a\n",
    "-->"
   ]
  },
  {
   "cell_type": "code",
   "execution_count": 17,
   "metadata": {},
   "outputs": [
    {
     "data": {
      "text/plain": [
       "LogisticRegression(C=1.0, class_weight=None, dual=False, fit_intercept=True,\n",
       "                   intercept_scaling=1, l1_ratio=None, max_iter=100,\n",
       "                   multi_class='ovr', n_jobs=None, penalty='l2',\n",
       "                   random_state=None, solver='lbfgs', tol=0.0001, verbose=0,\n",
       "                   warm_start=False)"
      ]
     },
     "execution_count": 17,
     "metadata": {},
     "output_type": "execute_result"
    }
   ],
   "source": [
    "logistic_regression_model = LogisticRegression(multi_class=\"ovr\")\n",
    "logistic_regression_model.fit(nba_train[['AST', 'TRB']], nba_train['Pos3'])"
   ]
  },
  {
   "cell_type": "code",
   "execution_count": 18,
   "metadata": {
    "deletable": false,
    "editable": false
   },
   "outputs": [
    {
     "data": {
      "text/html": [
       "\n",
       "    \n",
       "    \n",
       "        <p>All tests passed!</p>\n",
       "    \n",
       "    "
      ],
      "text/plain": [
       "\n",
       "    All tests passed!\n",
       "    "
      ]
     },
     "execution_count": 18,
     "metadata": {},
     "output_type": "execute_result"
    }
   ],
   "source": [
    "grader.check(\"q2a\")"
   ]
  },
  {
   "cell_type": "markdown",
   "metadata": {},
   "source": [
    "To see our classifier in action, we can use `logistic_regression_model.predict` and see what it outputs."
   ]
  },
  {
   "cell_type": "code",
   "execution_count": 19,
   "metadata": {},
   "outputs": [
    {
     "data": {
      "text/html": [
       "<div>\n",
       "<style scoped>\n",
       "    .dataframe tbody tr th:only-of-type {\n",
       "        vertical-align: middle;\n",
       "    }\n",
       "\n",
       "    .dataframe tbody tr th {\n",
       "        vertical-align: top;\n",
       "    }\n",
       "\n",
       "    .dataframe thead th {\n",
       "        text-align: right;\n",
       "    }\n",
       "</style>\n",
       "<table border=\"1\" class=\"dataframe\">\n",
       "  <thead>\n",
       "    <tr style=\"text-align: right;\">\n",
       "      <th></th>\n",
       "      <th>AST</th>\n",
       "      <th>TRB</th>\n",
       "      <th>Pos3</th>\n",
       "      <th>Predicted (OVRLR) Pos3</th>\n",
       "    </tr>\n",
       "  </thead>\n",
       "  <tbody>\n",
       "    <tr>\n",
       "      <th>655</th>\n",
       "      <td>1.4</td>\n",
       "      <td>8.6</td>\n",
       "      <td>C</td>\n",
       "      <td>C</td>\n",
       "    </tr>\n",
       "    <tr>\n",
       "      <th>644</th>\n",
       "      <td>2.0</td>\n",
       "      <td>10.2</td>\n",
       "      <td>C</td>\n",
       "      <td>C</td>\n",
       "    </tr>\n",
       "    <tr>\n",
       "      <th>703</th>\n",
       "      <td>0.8</td>\n",
       "      <td>4.5</td>\n",
       "      <td>C</td>\n",
       "      <td>F</td>\n",
       "    </tr>\n",
       "    <tr>\n",
       "      <th>652</th>\n",
       "      <td>1.6</td>\n",
       "      <td>7.2</td>\n",
       "      <td>C</td>\n",
       "      <td>F</td>\n",
       "    </tr>\n",
       "    <tr>\n",
       "      <th>165</th>\n",
       "      <td>1.4</td>\n",
       "      <td>7.5</td>\n",
       "      <td>C</td>\n",
       "      <td>C</td>\n",
       "    </tr>\n",
       "    <tr>\n",
       "      <th>122</th>\n",
       "      <td>2.4</td>\n",
       "      <td>8.4</td>\n",
       "      <td>C</td>\n",
       "      <td>C</td>\n",
       "    </tr>\n",
       "    <tr>\n",
       "      <th>353</th>\n",
       "      <td>7.3</td>\n",
       "      <td>10.8</td>\n",
       "      <td>C</td>\n",
       "      <td>C</td>\n",
       "    </tr>\n",
       "    <tr>\n",
       "      <th>367</th>\n",
       "      <td>1.4</td>\n",
       "      <td>8.6</td>\n",
       "      <td>C</td>\n",
       "      <td>C</td>\n",
       "    </tr>\n",
       "    <tr>\n",
       "      <th>408</th>\n",
       "      <td>1.2</td>\n",
       "      <td>4.9</td>\n",
       "      <td>C</td>\n",
       "      <td>F</td>\n",
       "    </tr>\n",
       "    <tr>\n",
       "      <th>161</th>\n",
       "      <td>3.9</td>\n",
       "      <td>12.0</td>\n",
       "      <td>C</td>\n",
       "      <td>C</td>\n",
       "    </tr>\n",
       "    <tr>\n",
       "      <th>647</th>\n",
       "      <td>3.4</td>\n",
       "      <td>12.4</td>\n",
       "      <td>C</td>\n",
       "      <td>C</td>\n",
       "    </tr>\n",
       "    <tr>\n",
       "      <th>308</th>\n",
       "      <td>4.2</td>\n",
       "      <td>6.7</td>\n",
       "      <td>C</td>\n",
       "      <td>G</td>\n",
       "    </tr>\n",
       "    <tr>\n",
       "      <th>362</th>\n",
       "      <td>3.0</td>\n",
       "      <td>11.4</td>\n",
       "      <td>C</td>\n",
       "      <td>C</td>\n",
       "    </tr>\n",
       "    <tr>\n",
       "      <th>146</th>\n",
       "      <td>3.6</td>\n",
       "      <td>8.2</td>\n",
       "      <td>C</td>\n",
       "      <td>C</td>\n",
       "    </tr>\n",
       "    <tr>\n",
       "      <th>233</th>\n",
       "      <td>4.4</td>\n",
       "      <td>7.9</td>\n",
       "      <td>C</td>\n",
       "      <td>C</td>\n",
       "    </tr>\n",
       "  </tbody>\n",
       "</table>\n",
       "</div>"
      ],
      "text/plain": [
       "     AST   TRB Pos3 Predicted (OVRLR) Pos3\n",
       "655  1.4   8.6    C                      C\n",
       "644  2.0  10.2    C                      C\n",
       "703  0.8   4.5    C                      F\n",
       "652  1.6   7.2    C                      F\n",
       "165  1.4   7.5    C                      C\n",
       "122  2.4   8.4    C                      C\n",
       "353  7.3  10.8    C                      C\n",
       "367  1.4   8.6    C                      C\n",
       "408  1.2   4.9    C                      F\n",
       "161  3.9  12.0    C                      C\n",
       "647  3.4  12.4    C                      C\n",
       "308  4.2   6.7    C                      G\n",
       "362  3.0  11.4    C                      C\n",
       "146  3.6   8.2    C                      C\n",
       "233  4.4   7.9    C                      C"
      ]
     },
     "execution_count": 19,
     "metadata": {},
     "output_type": "execute_result"
    }
   ],
   "source": [
    "nba_train['Predicted (OVRLR) Pos3'] = logistic_regression_model.predict(nba_train[['AST', 'TRB']])\n",
    "nba_train[['AST', 'TRB', 'Pos3', 'Predicted (OVRLR) Pos3']].head(15)"
   ]
  },
  {
   "cell_type": "markdown",
   "metadata": {},
   "source": [
    "Our model does decently well here, as you can see visually above. Below, we compute the training accuracy:"
   ]
  },
  {
   "cell_type": "code",
   "execution_count": 20,
   "metadata": {
    "scrolled": true
   },
   "outputs": [
    {
     "data": {
      "text/plain": [
       "0.7964071856287425"
      ]
     },
     "execution_count": 20,
     "metadata": {},
     "output_type": "execute_result"
    }
   ],
   "source": [
    "lr_training_accuracy = logistic_regression_model.score(nba_train[['AST', 'TRB']], nba_train['Pos3'])\n",
    "lr_training_accuracy"
   ]
  },
  {
   "cell_type": "markdown",
   "metadata": {},
   "source": [
    "We can compute the test accuracy as well by looking at `nba_test` instead of `nba_train`:"
   ]
  },
  {
   "cell_type": "code",
   "execution_count": 21,
   "metadata": {},
   "outputs": [
    {
     "data": {
      "text/plain": [
       "0.6428571428571429"
      ]
     },
     "execution_count": 21,
     "metadata": {},
     "output_type": "execute_result"
    }
   ],
   "source": [
    "lr_test_accuracy = logistic_regression_model.score(nba_test[['AST', 'TRB']], nba_test['Pos3'])\n",
    "lr_test_accuracy"
   ]
  },
  {
   "cell_type": "markdown",
   "metadata": {},
   "source": [
    "Now, let's draw the decision boundary for this logistic regression classifier, and see how the classifier performs on both the training and test data."
   ]
  },
  {
   "cell_type": "code",
   "execution_count": 22,
   "metadata": {
    "scrolled": true
   },
   "outputs": [
    {
     "data": {
      "image/png": "[encoded data removed]",
      "text/plain": [
       "<Figure size 432x288 with 1 Axes>"
      ]
     },
     "metadata": {
      "needs_background": "light"
     },
     "output_type": "display_data"
    }
   ],
   "source": [
    "sns_cmap = ListedColormap(np.array(sns.color_palette())[0:3, :])\n",
    "\n",
    "xx, yy = np.meshgrid(np.arange(0, 12, 0.02), np.arange(0, 16, 0.02))\n",
    "Z_string = logistic_regression_model.predict(np.c_[xx.ravel(), yy.ravel()])\n",
    "categories, Z_int = np.unique(Z_string, return_inverse = True)\n",
    "Z_int = Z_int.reshape(xx.shape)\n",
    "plt.contourf(xx, yy, Z_int, cmap = sns_cmap)\n",
    "sns.scatterplot(data = nba_train, x = 'AST', y = 'TRB', hue = 'Pos3')\n",
    "plt.title('Logistic Regression on nba_train');"
   ]
  },
  {
   "cell_type": "code",
   "execution_count": 23,
   "metadata": {},
   "outputs": [
    {
     "data": {
      "image/png": "[encoded data removed]",
      "text/plain": [
       "<Figure size 432x288 with 1 Axes>"
      ]
     },
     "metadata": {
      "needs_background": "light"
     },
     "output_type": "display_data"
    }
   ],
   "source": [
    "sns_cmap = ListedColormap(np.array(sns.color_palette())[0:3, :])\n",
    "\n",
    "xx, yy = np.meshgrid(np.arange(0, 12, 0.02), np.arange(0, 16, 0.02))\n",
    "Z_string = logistic_regression_model.predict(np.c_[xx.ravel(), yy.ravel()])\n",
    "categories, Z_int = np.unique(Z_string, return_inverse = True)\n",
    "Z_int = Z_int.reshape(xx.shape)\n",
    "plt.contourf(xx, yy, Z_int, cmap = sns_cmap)\n",
    "sns.scatterplot(data = nba_test, x = 'AST', y = 'TRB', hue = 'Pos3')\n",
    "plt.title('Logistic Regression on nba_test');"
   ]
  },
  {
   "cell_type": "markdown",
   "metadata": {},
   "source": [
    "Our one-vs-rest logistic regression was able to find a linear decision boundary between the three classes. It generally classifies centers as players with a lot of rebounds, forwards as players with a medium number of rebounds and a low number of assists, and guards as players with a low number of rebounds. \n",
    "\n",
    "Note: In practice we would use many more features – we only used 2 here just so that we could visualize the decision boundary."
   ]
  },
  {
   "cell_type": "markdown",
   "metadata": {
    "deletable": false,
    "editable": false
   },
   "source": [
    "## Decision Trees\n",
    "\n",
    "### Question 2b\n",
    "\n",
    "Let's now create a decision tree classifier on the same training data `nba_train`, and look at the resulting decision boundary. \n",
    "\n",
    "In the following cell, first, use [`tree.DecisionTreeClassifier`](https://scikit-learn.org/stable/modules/generated/sklearn.tree.DecisionTreeClassifier.html) to fit a model using the same features and response as above, and call this model `decision_tree_model`. Set the `random_state` parameter to 42.\n",
    "\n",
    "**Hint:** Your code will be mostly the same as the previous part.\n",
    "\n",
    "<!--\n",
    "BEGIN QUESTION\n",
    "name: q2b\n",
    "-->"
   ]
  },
  {
   "cell_type": "code",
   "execution_count": 24,
   "metadata": {
    "scrolled": true
   },
   "outputs": [
    {
     "data": {
      "text/plain": [
       "DecisionTreeClassifier(ccp_alpha=0.0, class_weight=None, criterion='gini',\n",
       "                       max_depth=None, max_features=None, max_leaf_nodes=None,\n",
       "                       min_impurity_decrease=0.0, min_impurity_split=None,\n",
       "                       min_samples_leaf=1, min_samples_split=2,\n",
       "                       min_weight_fraction_leaf=0.0, presort='deprecated',\n",
       "                       random_state=42, splitter='best')"
      ]
     },
     "execution_count": 24,
     "metadata": {},
     "output_type": "execute_result"
    }
   ],
   "source": [
    "decision_tree_model = tree.DecisionTreeClassifier(random_state = 42)\n",
    "decision_tree_model.fit(nba_train[['AST', 'TRB']], nba_train['Pos3'])"
   ]
  },
  {
   "cell_type": "code",
   "execution_count": 25,
   "metadata": {
    "deletable": false,
    "editable": false
   },
   "outputs": [
    {
     "data": {
      "text/html": [
       "\n",
       "    \n",
       "    \n",
       "        <p>All tests passed!</p>\n",
       "    \n",
       "    "
      ],
      "text/plain": [
       "\n",
       "    All tests passed!\n",
       "    "
      ]
     },
     "execution_count": 25,
     "metadata": {},
     "output_type": "execute_result"
    }
   ],
   "source": [
    "grader.check(\"q2b\")"
   ]
  },
  {
   "cell_type": "markdown",
   "metadata": {},
   "source": [
    "Now, let's draw the decision boundary for this decision tree classifier, and see how the classifier performs on both the training and test data."
   ]
  },
  {
   "cell_type": "code",
   "execution_count": 26,
   "metadata": {},
   "outputs": [
    {
     "data": {
      "image/png": "[encoded data removed]",
      "text/plain": [
       "<Figure size 432x288 with 1 Axes>"
      ]
     },
     "metadata": {
      "needs_background": "light"
     },
     "output_type": "display_data"
    }
   ],
   "source": [
    "xx, yy = np.meshgrid(np.arange(0, 12, 0.02), np.arange(0, 16, 0.02))\n",
    "Z_string = decision_tree_model.predict(np.c_[xx.ravel(), yy.ravel()])\n",
    "categories, Z_int = np.unique(Z_string, return_inverse = True)\n",
    "Z_int = Z_int.reshape(xx.shape)\n",
    "plt.contourf(xx, yy, Z_int, cmap = sns_cmap)\n",
    "sns.scatterplot(data = nba_train, x = 'AST', y = 'TRB', hue = 'Pos3')\n",
    "plt.title('Decision Tree on nba_train');"
   ]
  },
  {
   "cell_type": "code",
   "execution_count": 27,
   "metadata": {},
   "outputs": [
    {
     "data": {
      "image/png": "[encoded data removed]",
      "text/plain": [
       "<Figure size 432x288 with 1 Axes>"
      ]
     },
     "metadata": {
      "needs_background": "light"
     },
     "output_type": "display_data"
    }
   ],
   "source": [
    "xx, yy = np.meshgrid(np.arange(0, 12, 0.02), np.arange(0, 16, 0.02))\n",
    "Z_string = decision_tree_model.predict(np.c_[xx.ravel(), yy.ravel()])\n",
    "categories, Z_int = np.unique(Z_string, return_inverse = True)\n",
    "Z_int = Z_int.reshape(xx.shape)\n",
    "plt.contourf(xx, yy, Z_int, cmap = sns_cmap)\n",
    "sns.scatterplot(data = nba_test, x = 'AST', y = 'TRB', hue = 'Pos3')\n",
    "plt.title('Decision Tree on nba_test');"
   ]
  },
  {
   "cell_type": "markdown",
   "metadata": {
    "deletable": false,
    "editable": false
   },
   "source": [
    "### Question 2c\n",
    "\n",
    "Set `dt_training_accuracy` to be the training accuracy of the decision tree model and `dt_test_accuracy` to be the test accuracy.\n",
    "\n",
    "**Hint:** If you're failing this test, make sure you have the correct `random_state` parameter to `tree.DecisionTreeClassifier` in the previous part.\n",
    "\n",
    "<!--\n",
    "BEGIN QUESTION\n",
    "name: q2c\n",
    "-->"
   ]
  },
  {
   "cell_type": "code",
   "execution_count": 28,
   "metadata": {},
   "outputs": [
    {
     "data": {
      "text/plain": [
       "(0.9940119760479041, 0.6428571428571429)"
      ]
     },
     "execution_count": 28,
     "metadata": {},
     "output_type": "execute_result"
    }
   ],
   "source": [
    "dt_training_accuracy = decision_tree_model.score(nba_train[['AST', 'TRB']], nba_train['Pos3'])\n",
    "dt_test_accuracy = decision_tree_model.score(nba_test[['AST', 'TRB']], nba_test['Pos3'])\n",
    "dt_training_accuracy, dt_test_accuracy"
   ]
  },
  {
   "cell_type": "code",
   "execution_count": 29,
   "metadata": {
    "deletable": false,
    "editable": false
   },
   "outputs": [
    {
     "data": {
      "text/html": [
       "\n",
       "    \n",
       "    \n",
       "        <p>All tests passed!</p>\n",
       "    \n",
       "    "
      ],
      "text/plain": [
       "\n",
       "    All tests passed!\n",
       "    "
      ]
     },
     "execution_count": 29,
     "metadata": {},
     "output_type": "execute_result"
    }
   ],
   "source": [
    "grader.check(\"q2c\")"
   ]
  },
  {
   "cell_type": "markdown",
   "metadata": {
    "deletable": false,
    "editable": false
   },
   "source": [
    "## Random Forests\n",
    "\n",
    "### Question 2d\n",
    "\n",
    "Let's now create a random forest classifier on the same training data `nba_train` and look at the resulting decision boundary. \n",
    "\n",
    "In the following cell, use [`ensemble.RandomForestClassifier`](https://scikit-learn.org/stable/modules/generated/sklearn.ensemble.RandomForestClassifier.html) to fit a model using the same features and response as above, and call this model `random_forest_model`. Use 20 trees in your random forest classifier, and set the `random_state` parameter to 42.\n",
    "\n",
    "**Hint:** Your code for both parts will be mostly the same as the first few parts of this question.\n",
    "\n",
    "**Hint:** Look at the `n_estimators` parameter of `ensemble.RandomForestClassifier`.\n",
    "\n",
    "<!--\n",
    "BEGIN QUESTION\n",
    "name: q2d\n",
    "-->"
   ]
  },
  {
   "cell_type": "code",
   "execution_count": 30,
   "metadata": {},
   "outputs": [
    {
     "data": {
      "text/plain": [
       "RandomForestClassifier(bootstrap=True, ccp_alpha=0.0, class_weight=None,\n",
       "                       criterion='gini', max_depth=None, max_features='auto',\n",
       "                       max_leaf_nodes=None, max_samples=None,\n",
       "                       min_impurity_decrease=0.0, min_impurity_split=None,\n",
       "                       min_samples_leaf=1, min_samples_split=2,\n",
       "                       min_weight_fraction_leaf=0.0, n_estimators=20,\n",
       "                       n_jobs=None, oob_score=False, random_state=42, verbose=0,\n",
       "                       warm_start=False)"
      ]
     },
     "execution_count": 30,
     "metadata": {},
     "output_type": "execute_result"
    }
   ],
   "source": [
    "random_forest_model = ensemble.RandomForestClassifier(n_estimators = 20, random_state = 42)\n",
    "random_forest_model.fit(nba_train[['AST', 'TRB']], nba_train['Pos3'])"
   ]
  },
  {
   "cell_type": "code",
   "execution_count": 31,
   "metadata": {
    "deletable": false,
    "editable": false
   },
   "outputs": [
    {
     "data": {
      "text/html": [
       "\n",
       "    \n",
       "    \n",
       "        <p>All tests passed!</p>\n",
       "    \n",
       "    "
      ],
      "text/plain": [
       "\n",
       "    All tests passed!\n",
       "    "
      ]
     },
     "execution_count": 31,
     "metadata": {},
     "output_type": "execute_result"
    }
   ],
   "source": [
    "grader.check(\"q2d\")"
   ]
  },
  {
   "cell_type": "markdown",
   "metadata": {},
   "source": [
    "Now, let's draw the decision boundary for this random forest classifier, and see how the classifier performs on both the training and test data."
   ]
  },
  {
   "cell_type": "code",
   "execution_count": 32,
   "metadata": {},
   "outputs": [
    {
     "data": {
      "image/png": "[encoded data removed]",
      "text/plain": [
       "<Figure size 432x288 with 1 Axes>"
      ]
     },
     "metadata": {
      "needs_background": "light"
     },
     "output_type": "display_data"
    }
   ],
   "source": [
    "xx, yy = np.meshgrid(np.arange(0, 12, 0.02), np.arange(0, 16, 0.02))\n",
    "Z_string = random_forest_model.predict(np.c_[xx.ravel(), yy.ravel()])\n",
    "categories, Z_int = np.unique(Z_string, return_inverse = True)\n",
    "Z_int = Z_int.reshape(xx.shape)\n",
    "plt.contourf(xx, yy, Z_int, cmap = sns_cmap)\n",
    "sns.scatterplot(data = nba_train, x = 'AST', y = 'TRB', hue = 'Pos3')\n",
    "plt.title('Random Forest on nba_train');"
   ]
  },
  {
   "cell_type": "code",
   "execution_count": 33,
   "metadata": {},
   "outputs": [
    {
     "data": {
      "image/png": "[encoded data removed]",
      "text/plain": [
       "<Figure size 432x288 with 1 Axes>"
      ]
     },
     "metadata": {
      "needs_background": "light"
     },
     "output_type": "display_data"
    }
   ],
   "source": [
    "xx, yy = np.meshgrid(np.arange(0, 12, 0.02), np.arange(0, 16, 0.02))\n",
    "Z_string = random_forest_model.predict(np.c_[xx.ravel(), yy.ravel()])\n",
    "categories, Z_int = np.unique(Z_string, return_inverse = True)\n",
    "Z_int = Z_int.reshape(xx.shape)\n",
    "plt.contourf(xx, yy, Z_int, cmap = sns_cmap)\n",
    "sns.scatterplot(data = nba_test, x = 'AST', y = 'TRB', hue = 'Pos3')\n",
    "plt.title('Random Forest on nba_test');"
   ]
  },
  {
   "cell_type": "markdown",
   "metadata": {
    "deletable": false,
    "editable": false
   },
   "source": [
    "### Question 2e\n",
    "\n",
    "Set `rf_train_accuracy` to be the training accuracy of the random forest model and `rf_test_accuracy` to be the test accuracy.\n",
    "\n",
    "**Hint:** If you're failing this test, make sure you have the correct parameters to `ensemble.RandomForestClassifier` in the previous part.\n",
    "\n",
    "<!--\n",
    "BEGIN QUESTION\n",
    "name: q2e\n",
    "-->"
   ]
  },
  {
   "cell_type": "code",
   "execution_count": 34,
   "metadata": {},
   "outputs": [
    {
     "data": {
      "text/plain": [
       "(0.9760479041916168, 0.7142857142857143)"
      ]
     },
     "execution_count": 34,
     "metadata": {},
     "output_type": "execute_result"
    }
   ],
   "source": [
    "rf_train_accuracy = random_forest_model.score(nba_train[['AST', 'TRB']], nba_train['Pos3'])\n",
    "rf_test_accuracy = random_forest_model.score(nba_test[['AST', 'TRB']], nba_test['Pos3'])\n",
    "rf_train_accuracy, rf_test_accuracy"
   ]
  },
  {
   "cell_type": "code",
   "execution_count": 35,
   "metadata": {
    "deletable": false,
    "editable": false
   },
   "outputs": [
    {
     "data": {
      "text/html": [
       "\n",
       "    \n",
       "    \n",
       "        <p>All tests passed!</p>\n",
       "    \n",
       "    "
      ],
      "text/plain": [
       "\n",
       "    All tests passed!\n",
       "    "
      ]
     },
     "execution_count": 35,
     "metadata": {},
     "output_type": "execute_result"
    }
   ],
   "source": [
    "grader.check(\"q2e\")"
   ]
  },
  {
   "cell_type": "markdown",
   "metadata": {},
   "source": [
    "### Question 2f\n",
    "\n",
    "Below is a summary of the training and test accuracies for the three models you created (multiclass one-vs-rest logistic regression, decision tree, random forest)."
   ]
  },
  {
   "cell_type": "code",
   "execution_count": 36,
   "metadata": {},
   "outputs": [
    {
     "data": {
      "image/png": "[encoded data removed]",
      "text/plain": [
       "<Figure size 432x288 with 1 Axes>"
      ]
     },
     "metadata": {
      "needs_background": "light"
     },
     "output_type": "display_data"
    }
   ],
   "source": [
    "train_accuracy = [lr_training_accuracy, lr_test_accuracy, dt_training_accuracy, dt_test_accuracy, rf_train_accuracy, rf_test_accuracy]\n",
    "index = ['OVR Logistic Regression', 'Decision Tree', 'Random Forest']\n",
    "df = pd.DataFrame([(lr_training_accuracy, lr_test_accuracy), \n",
    "                   (dt_training_accuracy, dt_test_accuracy),\n",
    "                   (rf_train_accuracy, rf_test_accuracy)], \n",
    "                  columns=['Training Accuracy', 'Test Accuracy'], index=index)\n",
    "df.plot.bar();"
   ]
  },
  {
   "cell_type": "markdown",
   "metadata": {
    "deletable": false,
    "editable": false
   },
   "source": [
    "\n",
    "Looking at the three models, which model performed the best on the training set, and which model performed the best on the test set? How are the training and test accuracy related for the three models, and how do the decision boundaries generated for each of the three models relate to the model's performance?\n",
    "\n",
    "<!--\n",
    "BEGIN QUESTION\n",
    "name: q2f\n",
    "-->"
   ]
  },
  {
   "cell_type": "markdown",
   "metadata": {},
   "source": [
    "The Decision Tree model performed the best on the training set and the Random Forest model performed the best on the test set. The OVR Logistic Regression model had a lower training accuracy than both of the others, but had a higher test accuracy than the Decision Tree model.\n",
    "\n",
    "Generally, training accuracies are larger than test accuracies which indicate the problem of overfitting (i.e. fitting the noise in our data too closely leading to variance in our model)."
   ]
  },
  {
   "cell_type": "markdown",
   "metadata": {},
   "source": [
    "## Question 3 (ungraded)\n",
    "\n",
    "In homework 6 we used linear regression to predict housing prices in Ames, Iowa; however, what would happen if we tried to use a different prediction method? Try fitting a decision tree instead of fitting a linear regression model for your final model in homework 6. What do you notice about the training error and the test error for the decision tree regressor? Is one significantly larger than the other? If so, what methods could we use to make this error lower?\n",
    "\n",
    "Now, try fitting a random forest regressor instead of a single decision tree. What do you notice about the training error and the test error for the random forest, and how does this compare to the training and test error of a single decision tree?"
   ]
  },
  {
   "cell_type": "markdown",
   "metadata": {},
   "source": []
  },
  {
   "cell_type": "markdown",
   "metadata": {
    "deletable": false,
    "editable": false
   },
   "source": [
    "---\n",
    "\n",
    "To double-check your work, the cell below will rerun all of the autograder tests."
   ]
  },
  {
   "cell_type": "code",
   "execution_count": 37,
   "metadata": {
    "deletable": false,
    "editable": false
   },
   "outputs": [
    {
     "data": {
      "text/html": [
       "<p><strong>q1a:</strong></p>\n",
       "\n",
       "    \n",
       "    \n",
       "        <p>All tests passed!</p>\n",
       "    \n",
       "    \n",
       "\n",
       "<p><strong>q1b:</strong></p>\n",
       "\n",
       "    \n",
       "    \n",
       "        <p>All tests passed!</p>\n",
       "    \n",
       "    \n",
       "\n",
       "<p><strong>q1c:</strong></p>\n",
       "\n",
       "    \n",
       "    \n",
       "        <p>All tests passed!</p>\n",
       "    \n",
       "    \n",
       "\n",
       "<p><strong>q1d:</strong></p>\n",
       "\n",
       "    \n",
       "    \n",
       "        <p>All tests passed!</p>\n",
       "    \n",
       "    \n",
       "\n",
       "<p><strong>q2a:</strong></p>\n",
       "\n",
       "    \n",
       "    \n",
       "        <p>All tests passed!</p>\n",
       "    \n",
       "    \n",
       "\n",
       "<p><strong>q2b:</strong></p>\n",
       "\n",
       "    \n",
       "    \n",
       "        <p>All tests passed!</p>\n",
       "    \n",
       "    \n",
       "\n",
       "<p><strong>q2c:</strong></p>\n",
       "\n",
       "    \n",
       "    \n",
       "        <p>All tests passed!</p>\n",
       "    \n",
       "    \n",
       "\n",
       "<p><strong>q2d:</strong></p>\n",
       "\n",
       "    \n",
       "    \n",
       "        <p>All tests passed!</p>\n",
       "    \n",
       "    \n",
       "\n",
       "<p><strong>q2e:</strong></p>\n",
       "\n",
       "    \n",
       "    \n",
       "        <p>All tests passed!</p>\n",
       "    \n",
       "    \n",
       "\n"
      ],
      "text/plain": [
       "q1a:\n",
       "\n",
       "    All tests passed!\n",
       "    \n",
       "\n",
       "q1b:\n",
       "\n",
       "    All tests passed!\n",
       "    \n",
       "\n",
       "q1c:\n",
       "\n",
       "    All tests passed!\n",
       "    \n",
       "\n",
       "q1d:\n",
       "\n",
       "    All tests passed!\n",
       "    \n",
       "\n",
       "q2a:\n",
       "\n",
       "    All tests passed!\n",
       "    \n",
       "\n",
       "q2b:\n",
       "\n",
       "    All tests passed!\n",
       "    \n",
       "\n",
       "q2c:\n",
       "\n",
       "    All tests passed!\n",
       "    \n",
       "\n",
       "q2d:\n",
       "\n",
       "    All tests passed!\n",
       "    \n",
       "\n",
       "q2e:\n",
       "\n",
       "    All tests passed!\n",
       "    \n"
      ]
     },
     "execution_count": 37,
     "metadata": {},
     "output_type": "execute_result"
    }
   ],
   "source": [
    "grader.check_all()"
   ]
  },
  {
   "cell_type": "markdown",
   "metadata": {
    "deletable": false,
    "editable": false
   },
   "source": [
    "## Submission\n",
    "\n",
    "Make sure you have run all cells in your notebook in order before running the cell below, so that all images/graphs appear in the output. The cell below will generate a zip file for you to submit. **Please save before exporting!**"
   ]
  },
  {
   "cell_type": "code",
   "execution_count": 38,
   "metadata": {
    "deletable": false,
    "editable": false
   },
   "outputs": [
    {
     "data": {
      "text/html": [
       "\n",
       "                <p>Your submission has been exported. Click <a href=\"lab11.zip\" target=\"_blank\">here</a> \n",
       "                to download the zip file.</p>\n",
       "                "
      ],
      "text/plain": [
       "<IPython.core.display.HTML object>"
      ]
     },
     "metadata": {},
     "output_type": "display_data"
    }
   ],
   "source": [
    "# Save your notebook first, then run this cell to export your submission.\n",
    "grader.export(\"lab11.ipynb\", pdf=False)"
   ]
  },
  {
   "cell_type": "markdown",
   "metadata": {},
   "source": [
    " "
   ]
  }
 ],
 "metadata": {
  "celltoolbar": "Create Assignment",
  "history": [
   {
    "code": "# Initialize Otter\nimport otter\ngrader = otter.Notebook()",
    "id": "08066c3603a64bf3863a62e981d41364",
    "idx": 0,
    "time": "2020-11-13T00:14:13.924Z",
    "type": "execution"
   },
   {
    "id": "08066c3603a64bf3863a62e981d41364",
    "time": "2020-11-13T00:14:14.514Z",
    "type": "completion"
   },
   {
    "code": "import numpy as np\nimport pandas as pd\nimport matplotlib.pyplot as plt\nfrom matplotlib.colors import ListedColormap\nimport seaborn as sns\n\nfrom sklearn.linear_model import LogisticRegression\nfrom sklearn.model_selection import train_test_split\nfrom sklearn import tree\n# ignore the warning you might get from importing ensemble from sklearn\nfrom sklearn import ensemble",
    "id": "0090c4f5addb40c8bfdf9802892dc26a",
    "idx": 3,
    "time": "2020-11-13T00:14:15.216Z",
    "type": "execution"
   },
   {
    "code": "nba_data = pd.read_csv(\"nba18-19.csv\")\nnba_data.head(5)",
    "id": "7adc0599ebb94b7e8f8f253e4cf5fae1",
    "idx": 4,
    "time": "2020-11-13T00:14:15.907Z",
    "type": "execution"
   },
   {
    "id": "0090c4f5addb40c8bfdf9802892dc26a",
    "time": "2020-11-13T00:14:16.083Z",
    "type": "completion"
   },
   {
    "id": "7adc0599ebb94b7e8f8f253e4cf5fae1",
    "time": "2020-11-13T00:14:16.102Z",
    "type": "completion"
   },
   {
    "code": "nba_data['Pos'].value_counts()",
    "id": "73aa1447832f44e2832363189cae4518",
    "idx": 6,
    "time": "2020-11-13T00:15:34.503Z",
    "type": "execution"
   },
   {
    "id": "73aa1447832f44e2832363189cae4518",
    "time": "2020-11-13T00:15:34.559Z",
    "type": "completion"
   },
   {
    "code": "def basic_position(pos):\n    if 'F' in pos:\n        return 'F'\n    elif 'G' in pos:\n        return 'G'\n    return 'C'\n\nnba_data['Pos3'] = nba_data['Pos'].apply(basic_position)\nnba_data['Pos3'].value_counts()",
    "id": "7672020df71e417395bcd87e154cc01a",
    "idx": 8,
    "time": "2020-11-13T00:21:52.078Z",
    "type": "execution"
   },
   {
    "id": "7672020df71e417395bcd87e154cc01a",
    "time": "2020-11-13T00:21:52.189Z",
    "type": "completion"
   },
   {
    "code": "nba_data = nba_data[nba_data['PTS'] > 10]",
    "id": "671262f9c4bb43f9b75e3c9c9a5065b9",
    "idx": 10,
    "time": "2020-11-13T00:22:01.825Z",
    "type": "execution"
   },
   {
    "id": "671262f9c4bb43f9b75e3c9c9a5065b9",
    "time": "2020-11-13T00:22:01.872Z",
    "type": "completion"
   },
   {
    "code": "sns.scatterplot(data = nba_data, x = 'AST', y = 'TRB', hue = 'Pos3');",
    "id": "7a761eac272148448b70eb14f567b1f6",
    "idx": 12,
    "time": "2020-11-13T00:22:15.419Z",
    "type": "execution"
   },
   {
    "id": "7a761eac272148448b70eb14f567b1f6",
    "time": "2020-11-13T00:22:15.782Z",
    "type": "completion"
   },
   {
    "code": "np.array(['G', 'G', 'F', 'F', 'C', 'C'])",
    "id": "7291b8f023bd42b8849803fc92a80874",
    "idx": 15,
    "time": "2020-11-13T00:34:34.302Z",
    "type": "execution"
   },
   {
    "id": "7291b8f023bd42b8849803fc92a80874",
    "time": "2020-11-13T00:34:34.361Z",
    "type": "completion"
   },
   {
    "code": "np.unique(np.array(['G', 'G', 'F', 'F', 'C', 'C']))",
    "id": "7291b8f023bd42b8849803fc92a80874",
    "idx": 15,
    "time": "2020-11-13T00:34:40.747Z",
    "type": "execution"
   },
   {
    "id": "7291b8f023bd42b8849803fc92a80874",
    "time": "2020-11-13T00:34:40.822Z",
    "type": "completion"
   },
   {
    "code": "list(np.unique(np.array(['G', 'G', 'F', 'F', 'C', 'C'])))",
    "id": "7291b8f023bd42b8849803fc92a80874",
    "idx": 15,
    "time": "2020-11-13T00:34:45.389Z",
    "type": "execution"
   },
   {
    "id": "7291b8f023bd42b8849803fc92a80874",
    "time": "2020-11-13T00:34:45.455Z",
    "type": "completion"
   },
   {
    "code": "unique_labels = list(np.unique(np.array(['G', 'G', 'F', 'F', 'C', 'C'])))",
    "id": "7291b8f023bd42b8849803fc92a80874",
    "idx": 15,
    "time": "2020-11-13T00:36:32.103Z",
    "type": "execution"
   },
   {
    "id": "7291b8f023bd42b8849803fc92a80874",
    "time": "2020-11-13T00:36:32.193Z",
    "type": "completion"
   },
   {
    "code": "labels = ['G', 'G', 'F', 'F', 'C', 'C']\nunique_labels = list(np.unique(np.array(['G', 'G', 'F', 'F', 'C', 'C'])))\nfor unique_label in unique_labels:\n    return sum(unique_label == labels)",
    "id": "7291b8f023bd42b8849803fc92a80874",
    "idx": 15,
    "time": "2020-11-13T00:37:07.361Z",
    "type": "execution"
   },
   {
    "id": "7291b8f023bd42b8849803fc92a80874",
    "time": "2020-11-13T00:37:07.430Z",
    "type": "completion"
   },
   {
    "code": "labels = ['G', 'G', 'F', 'F', 'C', 'C']\nunique_labels = list(np.unique(np.array(['G', 'G', 'F', 'F', 'C', 'C'])))\nfor unique_label in unique_labels:\n    sum(unique_label == labels)",
    "id": "7291b8f023bd42b8849803fc92a80874",
    "idx": 15,
    "time": "2020-11-13T00:37:12.786Z",
    "type": "execution"
   },
   {
    "id": "7291b8f023bd42b8849803fc92a80874",
    "time": "2020-11-13T00:37:12.983Z",
    "type": "completion"
   },
   {
    "code": "labels = ['G', 'G', 'F', 'F', 'C', 'C']\nunique_labels = list(np.unique(np.array(['G', 'G', 'F', 'F', 'C', 'C'])))\nfor unique_label in unique_labels:\n    sum([unique_label == labels])",
    "id": "7291b8f023bd42b8849803fc92a80874",
    "idx": 15,
    "time": "2020-11-13T00:37:30.590Z",
    "type": "execution"
   },
   {
    "id": "7291b8f023bd42b8849803fc92a80874",
    "time": "2020-11-13T00:37:30.662Z",
    "type": "completion"
   },
   {
    "code": "labels = ['G', 'G', 'F', 'F', 'C', 'C']\nunique_labels = list(np.unique(np.array(['G', 'G', 'F', 'F', 'C', 'C'])))\nfor unique_label in unique_labels:\n    g = sum([unique_label == labels])",
    "id": "7291b8f023bd42b8849803fc92a80874",
    "idx": 15,
    "time": "2020-11-13T00:37:37.263Z",
    "type": "execution"
   },
   {
    "id": "7291b8f023bd42b8849803fc92a80874",
    "time": "2020-11-13T00:37:37.330Z",
    "type": "completion"
   },
   {
    "code": "labels = ['G', 'G', 'F', 'F', 'C', 'C']\nunique_labels = list(np.unique(np.array(['G', 'G', 'F', 'F', 'C', 'C'])))\nfor unique_label in unique_labels:\n    g = sum([unique_label == labels])\ng",
    "id": "7291b8f023bd42b8849803fc92a80874",
    "idx": 15,
    "time": "2020-11-13T00:37:40.016Z",
    "type": "execution"
   },
   {
    "id": "7291b8f023bd42b8849803fc92a80874",
    "time": "2020-11-13T00:37:40.109Z",
    "type": "completion"
   },
   {
    "code": "def entropy(labels):\n    unique_labels = list(np.unique(np.array(['G', 'G', 'F', 'F', 'C', 'C'])))\n    entropy = 0 \n    for unique_label in unique_labels:\n        proportion = sum([unique_label == labels])/len(labels)\n        entropy = proportion * np.log2(proportion)\n    return entropy\n\nentropy(nba_data['Pos3'])",
    "id": "cdbada0c200d4bafa7ec1d6065828877",
    "idx": 16,
    "time": "2020-11-13T00:39:04.158Z",
    "type": "execution"
   },
   {
    "id": "cdbada0c200d4bafa7ec1d6065828877",
    "time": "2020-11-13T00:39:04.275Z",
    "type": "completion"
   },
   {
    "code": "grader.check(\"q1a\")",
    "id": "842e23e4c56b4b758625d5db43cea1f1",
    "idx": 17,
    "time": "2020-11-13T00:39:06.732Z",
    "type": "execution"
   },
   {
    "id": "842e23e4c56b4b758625d5db43cea1f1",
    "time": "2020-11-13T00:39:06.870Z",
    "type": "completion"
   },
   {
    "code": "def entropy(labels):\n    unique_labels = list(np.unique(np.array(labels)))\n    entropy = 0 \n    for unique_label in unique_labels:\n        proportion = sum([unique_label == labels])/len(labels)\n        entropy = proportion * np.log2(proportion)\n    return entropy\n\nentropy(nba_data['Pos3'])",
    "id": "cdbada0c200d4bafa7ec1d6065828877",
    "idx": 16,
    "time": "2020-11-13T00:39:35.408Z",
    "type": "execution"
   },
   {
    "id": "cdbada0c200d4bafa7ec1d6065828877",
    "time": "2020-11-13T00:39:35.484Z",
    "type": "completion"
   },
   {
    "code": "grader.check(\"q1a\")",
    "id": "842e23e4c56b4b758625d5db43cea1f1",
    "idx": 17,
    "time": "2020-11-13T00:39:35.957Z",
    "type": "execution"
   },
   {
    "id": "842e23e4c56b4b758625d5db43cea1f1",
    "time": "2020-11-13T00:39:36.102Z",
    "type": "completion"
   },
   {
    "code": "'G'==['G', 'G', 'F', 'F', 'C', 'C']",
    "id": "7291b8f023bd42b8849803fc92a80874",
    "idx": 15,
    "time": "2020-11-13T00:40:14.801Z",
    "type": "execution"
   },
   {
    "id": "7291b8f023bd42b8849803fc92a80874",
    "time": "2020-11-13T00:40:14.901Z",
    "type": "completion"
   },
   {
    "code": "['G']==['G', 'G', 'F', 'F', 'C', 'C']",
    "id": "7291b8f023bd42b8849803fc92a80874",
    "idx": 15,
    "time": "2020-11-13T00:40:22.154Z",
    "type": "execution"
   },
   {
    "id": "7291b8f023bd42b8849803fc92a80874",
    "time": "2020-11-13T00:40:22.226Z",
    "type": "completion"
   },
   {
    "code": "'G'==np.array(['G', 'G', 'F', 'F', 'C', 'C'])",
    "id": "7291b8f023bd42b8849803fc92a80874",
    "idx": 15,
    "time": "2020-11-13T00:41:25.702Z",
    "type": "execution"
   },
   {
    "id": "7291b8f023bd42b8849803fc92a80874",
    "time": "2020-11-13T00:41:25.817Z",
    "type": "completion"
   },
   {
    "code": "sum('G'==np.array(['G', 'G', 'F', 'F', 'C', 'C']))",
    "id": "7291b8f023bd42b8849803fc92a80874",
    "idx": 15,
    "time": "2020-11-13T00:41:32.955Z",
    "type": "execution"
   },
   {
    "id": "7291b8f023bd42b8849803fc92a80874",
    "time": "2020-11-13T00:41:33.031Z",
    "type": "completion"
   },
   {
    "code": "def entropy(labels):\n    unique_labels = list(np.unique(np.array(labels)))\n    entropy = 0 \n    for unique_label in unique_labels:\n        proportion = sum(unique_label == np.array(labels))/len(labels)\n        entropy = proportion * np.log2(proportion)\n    return entropy\n\nentropy(nba_data['Pos3'])",
    "id": "cdbada0c200d4bafa7ec1d6065828877",
    "idx": 16,
    "time": "2020-11-13T00:41:52.924Z",
    "type": "execution"
   },
   {
    "id": "cdbada0c200d4bafa7ec1d6065828877",
    "time": "2020-11-13T00:41:53.030Z",
    "type": "completion"
   },
   {
    "code": "grader.check(\"q1a\")",
    "id": "842e23e4c56b4b758625d5db43cea1f1",
    "idx": 17,
    "time": "2020-11-13T00:41:54.614Z",
    "type": "execution"
   },
   {
    "id": "842e23e4c56b4b758625d5db43cea1f1",
    "time": "2020-11-13T00:41:54.710Z",
    "type": "completion"
   },
   {
    "code": "def entropy(labels):\n    unique_labels = list(np.unique(np.array(labels)))\n    entropy = 0 \n    for unique_label in unique_labels:\n        proportion = sum(unique_label == np.array(labels))/len(labels)\n        entropy = proportion * np.log2(proportion)\n    return -entropy\n\nentropy(nba_data['Pos3'])",
    "id": "cdbada0c200d4bafa7ec1d6065828877",
    "idx": 16,
    "time": "2020-11-13T00:41:59.905Z",
    "type": "execution"
   },
   {
    "id": "cdbada0c200d4bafa7ec1d6065828877",
    "time": "2020-11-13T00:41:59.987Z",
    "type": "completion"
   },
   {
    "code": "grader.check(\"q1a\")",
    "id": "842e23e4c56b4b758625d5db43cea1f1",
    "idx": 17,
    "time": "2020-11-13T00:42:01.321Z",
    "type": "execution"
   },
   {
    "id": "842e23e4c56b4b758625d5db43cea1f1",
    "time": "2020-11-13T00:42:01.545Z",
    "type": "completion"
   },
   {
    "code": "sum('G'==np.array(['G', 'G', 'F', 'F', 'C', 'C']))/len(labels)",
    "id": "7291b8f023bd42b8849803fc92a80874",
    "idx": 15,
    "time": "2020-11-13T00:42:11.508Z",
    "type": "execution"
   },
   {
    "id": "7291b8f023bd42b8849803fc92a80874",
    "time": "2020-11-13T00:42:11.584Z",
    "type": "completion"
   },
   {
    "code": "sum('F'==np.array(['G', 'G', 'F', 'F', 'C', 'C']))/len(labels)",
    "id": "7291b8f023bd42b8849803fc92a80874",
    "idx": 15,
    "time": "2020-11-13T00:42:21.628Z",
    "type": "execution"
   },
   {
    "id": "7291b8f023bd42b8849803fc92a80874",
    "time": "2020-11-13T00:42:21.713Z",
    "type": "completion"
   },
   {
    "code": "sum('C'==np.array(['G', 'G', 'F', 'F', 'C', 'C']))/len(labels)",
    "id": "7291b8f023bd42b8849803fc92a80874",
    "idx": 15,
    "time": "2020-11-13T00:42:25.187Z",
    "type": "execution"
   },
   {
    "id": "7291b8f023bd42b8849803fc92a80874",
    "time": "2020-11-13T00:42:25.255Z",
    "type": "completion"
   },
   {
    "code": "def entropy(labels):\n    unique_labels = list(np.unique(np.array(labels)))\n    entropy = 0 \n    for unique_label in unique_labels:\n        proportion = sum(unique_label == np.array(labels))/len(labels)\n        entropy = (proportion) * (np.log2(proportion))\n    return -entropy\n\nentropy(nba_data['Pos3'])",
    "id": "cdbada0c200d4bafa7ec1d6065828877",
    "idx": 16,
    "time": "2020-11-13T00:42:48.613Z",
    "type": "execution"
   },
   {
    "id": "cdbada0c200d4bafa7ec1d6065828877",
    "time": "2020-11-13T00:42:48.712Z",
    "type": "completion"
   },
   {
    "code": "grader.check(\"q1a\")",
    "id": "842e23e4c56b4b758625d5db43cea1f1",
    "idx": 17,
    "time": "2020-11-13T00:42:49.714Z",
    "type": "execution"
   },
   {
    "id": "842e23e4c56b4b758625d5db43cea1f1",
    "time": "2020-11-13T00:42:49.797Z",
    "type": "completion"
   },
   {
    "code": "['G', 'G', 'F', 'F', 'C', 'C']\nunique_labels = list(np.unique(np.array(['G', 'G', 'F', 'F', 'C', 'C'])))\nentropy = 0 \nfor unique_label in unique_labels:\n    proportion = sum(unique_label == np.array(labels))/len(labels)\n    entropy = (proportion) * (np.log2(proportion))",
    "id": "7291b8f023bd42b8849803fc92a80874",
    "idx": 15,
    "time": "2020-11-13T00:44:13.323Z",
    "type": "execution"
   },
   {
    "id": "7291b8f023bd42b8849803fc92a80874",
    "time": "2020-11-13T00:44:13.421Z",
    "type": "completion"
   },
   {
    "code": "def entropy(labels):\n    unique_labels = list(np.unique(np.array(labels)))\n    entropy = 0 \n    for unique_label in unique_labels:\n        proportion = sum(unique_label == np.array(labels))/len(labels)\n        entropy += (proportion) * (np.log2(proportion))\n    return -entropy\n\nentropy(nba_data['Pos3'])",
    "id": "cdbada0c200d4bafa7ec1d6065828877",
    "idx": 16,
    "time": "2020-11-13T00:44:27.491Z",
    "type": "execution"
   },
   {
    "id": "cdbada0c200d4bafa7ec1d6065828877",
    "time": "2020-11-13T00:44:27.564Z",
    "type": "completion"
   },
   {
    "code": "grader.check(\"q1a\")",
    "id": "842e23e4c56b4b758625d5db43cea1f1",
    "idx": 17,
    "time": "2020-11-13T00:44:28.450Z",
    "type": "execution"
   },
   {
    "id": "842e23e4c56b4b758625d5db43cea1f1",
    "time": "2020-11-13T00:44:28.533Z",
    "type": "completion"
   },
   {
    "code": "def entropy(labels):\n    unique_labels = list(np.unique(np.array(labels)))\n    entropy = 0 \n    for unique_label in unique_labels:\n        proportion = sum(unique_label == np.array(labels))/len(labels)\n        entropy += (proportion) * (np.log2(proportion))\n    return -entropy\n\nentropy(nba_data['Pos3'])",
    "id": "cdbada0c200d4bafa7ec1d6065828877",
    "idx": 15,
    "time": "2020-11-13T00:44:32.417Z",
    "type": "execution"
   },
   {
    "id": "cdbada0c200d4bafa7ec1d6065828877",
    "time": "2020-11-13T00:44:32.494Z",
    "type": "completion"
   },
   {
    "code": "grader.check(\"q1a\")",
    "id": "842e23e4c56b4b758625d5db43cea1f1",
    "idx": 16,
    "time": "2020-11-13T00:44:32.655Z",
    "type": "execution"
   },
   {
    "id": "842e23e4c56b4b758625d5db43cea1f1",
    "time": "2020-11-13T00:44:32.737Z",
    "type": "completion"
   },
   {
    "code": "def gini_impurity(labels):\n    unique_labels = list(np.unique(np.array(labels)))\n    proportions_squared = 0 \n    for unique_label in unique_labels:\n        proportion = sum(unique_label == np.array(labels))/len(labels)\n        proportions_squared += proportion**2\n    return 1-proportions_squared\n\ngini_impurity(nba_data['Pos3'])",
    "id": "822191f570f04dca9f20eb586f74e675",
    "idx": 18,
    "time": "2020-11-13T00:46:14.176Z",
    "type": "execution"
   },
   {
    "id": "822191f570f04dca9f20eb586f74e675",
    "time": "2020-11-13T00:46:14.257Z",
    "type": "completion"
   },
   {
    "code": "grader.check(\"q1b\")",
    "id": "5d8061e436874bceb3b199644a6ee6de",
    "idx": 19,
    "time": "2020-11-13T00:46:14.789Z",
    "type": "execution"
   },
   {
    "id": "5d8061e436874bceb3b199644a6ee6de",
    "time": "2020-11-13T00:46:14.849Z",
    "type": "completion"
   },
   {
    "code": "def entropy(labels):\n    unique_labels = list(np.unique(np.array(labels)))\n    entropy = 0 \n    for unique_label in unique_labels:\n        proportion = sum(unique_label == np.array(labels))/len(labels)\n        entropy += (proportion) * (np.log2(proportion))\n    return -entropy\n\nentropy(nba_data['Pos3'])",
    "id": "cdbada0c200d4bafa7ec1d6065828877",
    "idx": 15,
    "time": "2020-11-13T00:46:19.354Z",
    "type": "execution"
   },
   {
    "id": "cdbada0c200d4bafa7ec1d6065828877",
    "time": "2020-11-13T00:46:19.426Z",
    "type": "completion"
   },
   {
    "code": "grader.check(\"q1a\")",
    "id": "842e23e4c56b4b758625d5db43cea1f1",
    "idx": 16,
    "time": "2020-11-13T00:46:19.611Z",
    "type": "execution"
   },
   {
    "id": "842e23e4c56b4b758625d5db43cea1f1",
    "time": "2020-11-13T00:46:19.697Z",
    "type": "completion"
   },
   {
    "code": "def gini_impurity(labels):\n    unique_labels = list(np.unique(np.array(labels)))\n    proportions_squared = 0 \n    for unique_label in unique_labels:\n        proportion = sum(unique_label == np.array(labels))/len(labels)\n        proportions_squared += proportion**2\n    return 1-proportions_squared\n\ngini_impurity(nba_data['Pos3'])",
    "id": "822191f570f04dca9f20eb586f74e675",
    "idx": 18,
    "time": "2020-11-13T00:46:20.046Z",
    "type": "execution"
   },
   {
    "id": "822191f570f04dca9f20eb586f74e675",
    "time": "2020-11-13T00:46:20.174Z",
    "type": "completion"
   },
   {
    "code": "grader.check(\"q1b\")",
    "id": "5d8061e436874bceb3b199644a6ee6de",
    "idx": 19,
    "time": "2020-11-13T00:46:20.235Z",
    "type": "execution"
   },
   {
    "id": "5d8061e436874bceb3b199644a6ee6de",
    "time": "2020-11-13T00:46:20.339Z",
    "type": "completion"
   },
   {
    "code": "def gini_impurity(labels):\n    unique_labels = list(np.unique(np.array(labels)))\n    proportions_squared = 0 \n    for unique_label in unique_labels:\n        proportion = sum(unique_label == np.array(labels))/len(labels)\n        proportions_squared += proportion\n    return 1-proportions_squared\n\ngini_impurity(nba_data['Pos3'])",
    "id": "822191f570f04dca9f20eb586f74e675",
    "idx": 18,
    "time": "2020-11-13T00:46:28.710Z",
    "type": "execution"
   },
   {
    "id": "822191f570f04dca9f20eb586f74e675",
    "time": "2020-11-13T00:46:28.781Z",
    "type": "completion"
   },
   {
    "code": "grader.check(\"q1b\")",
    "id": "5d8061e436874bceb3b199644a6ee6de",
    "idx": 19,
    "time": "2020-11-13T00:46:29.662Z",
    "type": "execution"
   },
   {
    "id": "5d8061e436874bceb3b199644a6ee6de",
    "time": "2020-11-13T00:46:29.763Z",
    "type": "completion"
   },
   {
    "code": "def gini_impurity(labels):\n    unique_labels = list(np.unique(np.array(labels)))\n    proportions_squared = 0 \n    for unique_label in unique_labels:\n        proportion = sum(unique_label == np.array(labels))/len(labels)\n        proportions_squared += proportion**2\n    return 1-proportions_squared\n\ngini_impurity(nba_data['Pos3'])",
    "id": "822191f570f04dca9f20eb586f74e675",
    "idx": 18,
    "time": "2020-11-13T00:46:34.257Z",
    "type": "execution"
   },
   {
    "id": "822191f570f04dca9f20eb586f74e675",
    "time": "2020-11-13T00:46:34.334Z",
    "type": "completion"
   },
   {
    "code": "grader.check(\"q1b\")",
    "id": "5d8061e436874bceb3b199644a6ee6de",
    "idx": 19,
    "time": "2020-11-13T00:46:34.514Z",
    "type": "execution"
   },
   {
    "id": "5d8061e436874bceb3b199644a6ee6de",
    "time": "2020-11-13T00:46:34.570Z",
    "type": "completion"
   },
   {
    "code": "np.mean([1, 2, 3])",
    "id": "4ff8c0b744e44469b2d2171f1440d2de",
    "idx": 22,
    "time": "2020-11-13T00:47:32.173Z",
    "type": "execution"
   },
   {
    "id": "4ff8c0b744e44469b2d2171f1440d2de",
    "time": "2020-11-13T00:47:32.264Z",
    "type": "completion"
   },
   {
    "code": "def variance(values):\n    return np.std(values)\n    \nvariance(nba_data['PTS'])",
    "id": "ec6166ce540d4fe38a2d662a16a8c80e",
    "idx": 23,
    "time": "2020-11-13T00:48:14.034Z",
    "type": "execution"
   },
   {
    "id": "ec6166ce540d4fe38a2d662a16a8c80e",
    "time": "2020-11-13T00:48:14.105Z",
    "type": "completion"
   },
   {
    "code": "grader.check(\"q1c\")",
    "id": "c88e6061c178462b86c236caeb530fb7",
    "idx": 24,
    "time": "2020-11-13T00:48:14.487Z",
    "type": "execution"
   },
   {
    "id": "c88e6061c178462b86c236caeb530fb7",
    "time": "2020-11-13T00:48:14.568Z",
    "type": "completion"
   },
   {
    "code": "def variance(values):\n    return np.std(values)**2\n    \nvariance(nba_data['PTS'])",
    "id": "ec6166ce540d4fe38a2d662a16a8c80e",
    "idx": 23,
    "time": "2020-11-13T00:49:34.530Z",
    "type": "execution"
   },
   {
    "id": "ec6166ce540d4fe38a2d662a16a8c80e",
    "time": "2020-11-13T00:49:34.655Z",
    "type": "completion"
   },
   {
    "code": "grader.check(\"q1c\")",
    "id": "c88e6061c178462b86c236caeb530fb7",
    "idx": 24,
    "time": "2020-11-13T00:49:35.089Z",
    "type": "execution"
   },
   {
    "id": "c88e6061c178462b86c236caeb530fb7",
    "time": "2020-11-13T00:49:35.170Z",
    "type": "completion"
   },
   {
    "code": "def variance(values):\n    return np.std(values)**2\n    \nvariance(nba_data['PTS'])",
    "id": "ec6166ce540d4fe38a2d662a16a8c80e",
    "idx": 22,
    "time": "2020-11-13T00:49:39.662Z",
    "type": "execution"
   },
   {
    "id": "ec6166ce540d4fe38a2d662a16a8c80e",
    "time": "2020-11-13T00:49:39.728Z",
    "type": "completion"
   },
   {
    "code": "grader.check(\"q1c\")",
    "id": "c88e6061c178462b86c236caeb530fb7",
    "idx": 23,
    "time": "2020-11-13T00:49:40.092Z",
    "type": "execution"
   },
   {
    "id": "c88e6061c178462b86c236caeb530fb7",
    "time": "2020-11-13T00:49:40.184Z",
    "type": "completion"
   },
   {
    "code": "nba_data",
    "id": "c007d47e03ca4d2fa45db21cb638f875",
    "idx": 25,
    "time": "2020-11-13T00:52:49.023Z",
    "type": "execution"
   },
   {
    "id": "c007d47e03ca4d2fa45db21cb638f875",
    "time": "2020-11-13T00:52:49.204Z",
    "type": "completion"
   },
   {
    "code": "nba_data['Pos3']",
    "id": "c007d47e03ca4d2fa45db21cb638f875",
    "idx": 25,
    "time": "2020-11-13T00:52:56.196Z",
    "type": "execution"
   },
   {
    "id": "c007d47e03ca4d2fa45db21cb638f875",
    "time": "2020-11-13T00:52:56.266Z",
    "type": "completion"
   },
   {
    "code": "nba_data['Pos3'].value_counts()",
    "id": "c007d47e03ca4d2fa45db21cb638f875",
    "idx": 25,
    "time": "2020-11-13T00:53:06.278Z",
    "type": "execution"
   },
   {
    "id": "c007d47e03ca4d2fa45db21cb638f875",
    "time": "2020-11-13T00:53:06.347Z",
    "type": "completion"
   },
   {
    "code": "nba_data['age']",
    "id": "c007d47e03ca4d2fa45db21cb638f875",
    "idx": 25,
    "time": "2020-11-13T00:53:44.241Z",
    "type": "execution"
   },
   {
    "id": "c007d47e03ca4d2fa45db21cb638f875",
    "time": "2020-11-13T00:53:44.353Z",
    "type": "completion"
   },
   {
    "code": "nba_data",
    "id": "c007d47e03ca4d2fa45db21cb638f875",
    "idx": 25,
    "time": "2020-11-13T00:53:48.812Z",
    "type": "execution"
   },
   {
    "id": "c007d47e03ca4d2fa45db21cb638f875",
    "time": "2020-11-13T00:53:48.947Z",
    "type": "completion"
   },
   {
    "code": "nba_data['Age']",
    "id": "c007d47e03ca4d2fa45db21cb638f875",
    "idx": 25,
    "time": "2020-11-13T00:53:57.980Z",
    "type": "execution"
   },
   {
    "id": "c007d47e03ca4d2fa45db21cb638f875",
    "time": "2020-11-13T00:53:58.114Z",
    "type": "completion"
   },
   {
    "code": "nba_data['Age']>30",
    "id": "c007d47e03ca4d2fa45db21cb638f875",
    "idx": 25,
    "time": "2020-11-13T00:54:08.423Z",
    "type": "execution"
   },
   {
    "id": "c007d47e03ca4d2fa45db21cb638f875",
    "time": "2020-11-13T00:54:08.498Z",
    "type": "completion"
   },
   {
    "code": "nba[nba_data['Age']=>30]",
    "id": "c007d47e03ca4d2fa45db21cb638f875",
    "idx": 25,
    "time": "2020-11-13T00:54:27.382Z",
    "type": "execution"
   },
   {
    "id": "c007d47e03ca4d2fa45db21cb638f875",
    "time": "2020-11-13T00:54:27.482Z",
    "type": "completion"
   },
   {
    "code": "nba[nba_data['Age']>=30]",
    "id": "c007d47e03ca4d2fa45db21cb638f875",
    "idx": 25,
    "time": "2020-11-13T00:54:34.575Z",
    "type": "execution"
   },
   {
    "id": "c007d47e03ca4d2fa45db21cb638f875",
    "time": "2020-11-13T00:54:34.643Z",
    "type": "completion"
   },
   {
    "code": "nba_data[nba_data['Age']>=30]",
    "id": "c007d47e03ca4d2fa45db21cb638f875",
    "idx": 25,
    "time": "2020-11-13T00:54:40.687Z",
    "type": "execution"
   },
   {
    "id": "c007d47e03ca4d2fa45db21cb638f875",
    "time": "2020-11-13T00:54:41.058Z",
    "type": "completion"
   },
   {
    "code": "nba_data[nba_data['Age']>=30]['Pos3']",
    "id": "c007d47e03ca4d2fa45db21cb638f875",
    "idx": 25,
    "time": "2020-11-13T00:54:51.375Z",
    "type": "execution"
   },
   {
    "id": "c007d47e03ca4d2fa45db21cb638f875",
    "time": "2020-11-13T00:54:51.466Z",
    "type": "completion"
   },
   {
    "code": "def weighted_metric(left, right, metric):\n    return ((metric(left)*len(left))+(metric(right)*len(right)))/(len(left)+len(right))\n\nwe_pos3_age_30 = weighted_metric(nba_data[nba_data['Age']>=30]['Pos3'], nba_data[nba_data['Age']<30]['Pos3'], entropy)\nwe_pos3_age_30",
    "id": "be8c264796c84ccfbbb324c0054e5cfc",
    "idx": 25,
    "time": "2020-11-13T00:55:57.170Z",
    "type": "execution"
   },
   {
    "id": "be8c264796c84ccfbbb324c0054e5cfc",
    "time": "2020-11-13T00:55:57.247Z",
    "type": "completion"
   },
   {
    "code": "grader.check(\"q1d\")",
    "id": "7b856ee314a747408f8b7fac064aa482",
    "idx": 26,
    "time": "2020-11-13T00:55:57.920Z",
    "type": "execution"
   },
   {
    "id": "7b856ee314a747408f8b7fac064aa482",
    "time": "2020-11-13T00:55:58.012Z",
    "type": "completion"
   },
   {
    "code": "nba_train, nba_test = train_test_split(nba_data, test_size=0.25, random_state=100)\nnba_train = nba_train.sort_values(by='Pos')\nnba_test = nba_test.sort_values(by='Pos')",
    "id": "0e5423ba12204316918c501bed2305f6",
    "idx": 29,
    "time": "2020-11-13T00:56:01.989Z",
    "type": "execution"
   },
   {
    "id": "0e5423ba12204316918c501bed2305f6",
    "time": "2020-11-13T00:56:02.049Z",
    "type": "completion"
   },
   {
    "code": "logistic_regression_model = LogisticRegression(multi_class=\"ovr\")\nlogistic_regression_model.fit(nba_train[['AST', 'TRB']], nba_train['Pos3'])",
    "id": "7f678dd72ea04f1a9eeb7cf01855cb3b",
    "idx": 31,
    "time": "2020-11-13T00:58:21.858Z",
    "type": "execution"
   },
   {
    "id": "7f678dd72ea04f1a9eeb7cf01855cb3b",
    "time": "2020-11-13T00:58:21.946Z",
    "type": "completion"
   },
   {
    "code": "grader.check(\"q2a\")",
    "id": "72cf2b2eb6f4455eb7895f1e28674e30",
    "idx": 32,
    "time": "2020-11-13T00:58:22.786Z",
    "type": "execution"
   },
   {
    "id": "72cf2b2eb6f4455eb7895f1e28674e30",
    "time": "2020-11-13T00:58:22.866Z",
    "type": "completion"
   },
   {
    "code": "nba_train['Predicted (OVRLR) Pos3'] = logistic_regression_model.predict(nba_train[['AST', 'TRB']])\nnba_train[['AST', 'TRB', 'Pos3', 'Predicted (OVRLR) Pos3']].head(15)",
    "id": "f53e44669abc409f9b92687e63441da5",
    "idx": 34,
    "time": "2020-11-13T00:58:30.050Z",
    "type": "execution"
   },
   {
    "id": "f53e44669abc409f9b92687e63441da5",
    "time": "2020-11-13T00:58:30.114Z",
    "type": "completion"
   },
   {
    "code": "lr_training_accuracy = logistic_regression_model.score(nba_train[['AST', 'TRB']], nba_train['Pos3'])\nlr_training_accuracy",
    "id": "f1ec13da204048459972f003e9b32013",
    "idx": 36,
    "time": "2020-11-13T00:58:43.744Z",
    "type": "execution"
   },
   {
    "id": "f1ec13da204048459972f003e9b32013",
    "time": "2020-11-13T00:58:43.784Z",
    "type": "completion"
   },
   {
    "code": "lr_test_accuracy = logistic_regression_model.score(nba_test[['AST', 'TRB']], nba_test['Pos3'])\nlr_test_accuracy",
    "id": "ea4a9498f47547d7880a9c8021e542c8",
    "idx": 38,
    "time": "2020-11-13T00:58:48.373Z",
    "type": "execution"
   },
   {
    "id": "ea4a9498f47547d7880a9c8021e542c8",
    "time": "2020-11-13T00:58:48.419Z",
    "type": "completion"
   },
   {
    "code": "sns_cmap = ListedColormap(np.array(sns.color_palette())[0:3, :])\n\nxx, yy = np.meshgrid(np.arange(0, 12, 0.02), np.arange(0, 16, 0.02))\nZ_string = logistic_regression_model.predict(np.c_[xx.ravel(), yy.ravel()])\ncategories, Z_int = np.unique(Z_string, return_inverse = True)\nZ_int = Z_int.reshape(xx.shape)\nplt.contourf(xx, yy, Z_int, cmap = sns_cmap)\nsns.scatterplot(data = nba_train, x = 'AST', y = 'TRB', hue = 'Pos3')\nplt.title('Logistic Regression on nba_train');",
    "id": "51d25ec46601432d8f85b81fd198c315",
    "idx": 40,
    "time": "2020-11-13T00:58:50.045Z",
    "type": "execution"
   },
   {
    "id": "51d25ec46601432d8f85b81fd198c315",
    "time": "2020-11-13T00:58:50.915Z",
    "type": "completion"
   },
   {
    "code": "sns_cmap = ListedColormap(np.array(sns.color_palette())[0:3, :])\n\nxx, yy = np.meshgrid(np.arange(0, 12, 0.02), np.arange(0, 16, 0.02))\nZ_string = logistic_regression_model.predict(np.c_[xx.ravel(), yy.ravel()])\ncategories, Z_int = np.unique(Z_string, return_inverse = True)\nZ_int = Z_int.reshape(xx.shape)\nplt.contourf(xx, yy, Z_int, cmap = sns_cmap)\nsns.scatterplot(data = nba_test, x = 'AST', y = 'TRB', hue = 'Pos3')\nplt.title('Logistic Regression on nba_test');",
    "id": "971ccd593eda47088291669e1f45ae9a",
    "idx": 41,
    "time": "2020-11-13T00:58:55.563Z",
    "type": "execution"
   },
   {
    "id": "971ccd593eda47088291669e1f45ae9a",
    "time": "2020-11-13T00:58:56.383Z",
    "type": "completion"
   },
   {
    "code": "decision_tree_model = tree.DecisionTreeClassifier(random_state = 42)\ndecision_tree_model.fit(nba_train[['AST', 'TRB']], nba_train['Pos3'])",
    "id": "2a16cbfa94194bfd837e78b58b228c94",
    "idx": 44,
    "time": "2020-11-13T01:07:10.792Z",
    "type": "execution"
   },
   {
    "id": "2a16cbfa94194bfd837e78b58b228c94",
    "time": "2020-11-13T01:07:10.868Z",
    "type": "completion"
   },
   {
    "code": "grader.check(\"q2b\")",
    "id": "1be87132693f4d16b36f5d949c82f47a",
    "idx": 45,
    "time": "2020-11-13T01:07:11.153Z",
    "type": "execution"
   },
   {
    "id": "1be87132693f4d16b36f5d949c82f47a",
    "time": "2020-11-13T01:07:11.223Z",
    "type": "completion"
   },
   {
    "code": "xx, yy = np.meshgrid(np.arange(0, 12, 0.02), np.arange(0, 16, 0.02))\nZ_string = decision_tree_model.predict(np.c_[xx.ravel(), yy.ravel()])\ncategories, Z_int = np.unique(Z_string, return_inverse = True)\nZ_int = Z_int.reshape(xx.shape)\nplt.contourf(xx, yy, Z_int, cmap = sns_cmap)\nsns.scatterplot(data = nba_train, x = 'AST', y = 'TRB', hue = 'Pos3')\nplt.title('Decision Tree on nba_train');",
    "id": "9ca270429f3d427c935028664cfea576",
    "idx": 47,
    "time": "2020-11-13T01:07:12.609Z",
    "type": "execution"
   },
   {
    "code": "xx, yy = np.meshgrid(np.arange(0, 12, 0.02), np.arange(0, 16, 0.02))\nZ_string = decision_tree_model.predict(np.c_[xx.ravel(), yy.ravel()])\ncategories, Z_int = np.unique(Z_string, return_inverse = True)\nZ_int = Z_int.reshape(xx.shape)\nplt.contourf(xx, yy, Z_int, cmap = sns_cmap)\nsns.scatterplot(data = nba_test, x = 'AST', y = 'TRB', hue = 'Pos3')\nplt.title('Decision Tree on nba_test');",
    "id": "86382ad6234041a6b5dea7efaafb01ad",
    "idx": 48,
    "time": "2020-11-13T01:07:12.812Z",
    "type": "execution"
   },
   {
    "code": "dt_training_accuracy = ...\ndt_test_accuracy = ...\ndt_training_accuracy, dt_test_accuracy",
    "id": "6efa0b95e8d045d798bede29d4070e1b",
    "idx": 50,
    "time": "2020-11-13T01:07:13.145Z",
    "type": "execution"
   },
   {
    "id": "9ca270429f3d427c935028664cfea576",
    "time": "2020-11-13T01:07:13.386Z",
    "type": "completion"
   },
   {
    "id": "86382ad6234041a6b5dea7efaafb01ad",
    "time": "2020-11-13T01:07:14.227Z",
    "type": "completion"
   },
   {
    "id": "6efa0b95e8d045d798bede29d4070e1b",
    "time": "2020-11-13T01:07:14.230Z",
    "type": "completion"
   },
   {
    "code": "dt_training_accuracy = decision_tree_model.score(nba_train[['AST', 'TRB']], nba_train['Pos3'])\ndt_test_accuracy = decision_tree_model.score(nba_test[['AST', 'TRB']], nba_test['Pos3'])\ndt_training_accuracy, dt_test_accuracy",
    "id": "6efa0b95e8d045d798bede29d4070e1b",
    "idx": 50,
    "time": "2020-11-13T01:08:20.137Z",
    "type": "execution"
   },
   {
    "id": "6efa0b95e8d045d798bede29d4070e1b",
    "time": "2020-11-13T01:08:20.242Z",
    "type": "completion"
   },
   {
    "code": "grader.check(\"q2c\")",
    "id": "168b4dd91c0049218a769a46a547e659",
    "idx": 51,
    "time": "2020-11-13T01:08:20.653Z",
    "type": "execution"
   },
   {
    "id": "168b4dd91c0049218a769a46a547e659",
    "time": "2020-11-13T01:08:20.765Z",
    "type": "completion"
   },
   {
    "code": "random_forest_model = ensemble.RandomForestClassifier(n_estimators = 20, random_state = 42)\nrandom_forest_model.fit(nba_train[['AST', 'TRB']], nba_train['Pos3'])",
    "id": "36f8f541ff484fab95a1a490153bbca7",
    "idx": 53,
    "time": "2020-11-13T01:09:23.777Z",
    "type": "execution"
   },
   {
    "id": "36f8f541ff484fab95a1a490153bbca7",
    "time": "2020-11-13T01:09:23.908Z",
    "type": "completion"
   },
   {
    "code": "grader.check(\"q2d\")",
    "id": "9074fdfe335c45819555ac306e12e8e3",
    "idx": 54,
    "time": "2020-11-13T01:09:24.175Z",
    "type": "execution"
   },
   {
    "id": "9074fdfe335c45819555ac306e12e8e3",
    "time": "2020-11-13T01:09:24.489Z",
    "type": "completion"
   },
   {
    "code": "xx, yy = np.meshgrid(np.arange(0, 12, 0.02), np.arange(0, 16, 0.02))\nZ_string = random_forest_model.predict(np.c_[xx.ravel(), yy.ravel()])\ncategories, Z_int = np.unique(Z_string, return_inverse = True)\nZ_int = Z_int.reshape(xx.shape)\nplt.contourf(xx, yy, Z_int, cmap = sns_cmap)\nsns.scatterplot(data = nba_train, x = 'AST', y = 'TRB', hue = 'Pos3')\nplt.title('Random Forest on nba_train');",
    "id": "bf97f507430c4d0984f8359d68ec1817",
    "idx": 56,
    "time": "2020-11-13T01:10:17.479Z",
    "type": "execution"
   },
   {
    "code": "xx, yy = np.meshgrid(np.arange(0, 12, 0.02), np.arange(0, 16, 0.02))\nZ_string = random_forest_model.predict(np.c_[xx.ravel(), yy.ravel()])\ncategories, Z_int = np.unique(Z_string, return_inverse = True)\nZ_int = Z_int.reshape(xx.shape)\nplt.contourf(xx, yy, Z_int, cmap = sns_cmap)\nsns.scatterplot(data = nba_test, x = 'AST', y = 'TRB', hue = 'Pos3')\nplt.title('Random Forest on nba_test');",
    "id": "c8a406993f19492d88a89fd120fed470",
    "idx": 57,
    "time": "2020-11-13T01:10:17.719Z",
    "type": "execution"
   },
   {
    "id": "bf97f507430c4d0984f8359d68ec1817",
    "time": "2020-11-13T01:10:18.710Z",
    "type": "completion"
   },
   {
    "id": "c8a406993f19492d88a89fd120fed470",
    "time": "2020-11-13T01:10:19.913Z",
    "type": "completion"
   },
   {
    "code": "rf_train_accuracy = random_forest_model.score(nba_train[['AST', 'TRB']], nba_train['Pos3'])\nrf_test_accuracy = random_forest_model.score(nba_test[['AST', 'TRB']], nba_test['Pos3'])\nrf_train_accuracy, rf_test_accuracy",
    "id": "2095ebb7746346bb82e2d9cf8f23d889",
    "idx": 59,
    "time": "2020-11-13T01:10:57.401Z",
    "type": "execution"
   },
   {
    "id": "2095ebb7746346bb82e2d9cf8f23d889",
    "time": "2020-11-13T01:10:57.481Z",
    "type": "completion"
   },
   {
    "code": "grader.check(\"q2e\")",
    "id": "95fb006494e24ffb853ec5b3e656e22f",
    "idx": 60,
    "time": "2020-11-13T01:10:57.822Z",
    "type": "execution"
   },
   {
    "id": "95fb006494e24ffb853ec5b3e656e22f",
    "time": "2020-11-13T01:10:58.329Z",
    "type": "completion"
   },
   {
    "code": "train_accuracy = [lr_training_accuracy, lr_test_accuracy, dt_training_accuracy, dt_test_accuracy, rf_train_accuracy, rf_test_accuracy]\nindex = ['OVR Logistic Regression', 'Decision Tree', 'Random Forest']\ndf = pd.DataFrame([(lr_training_accuracy, lr_test_accuracy), \n                   (dt_training_accuracy, dt_test_accuracy),\n                   (rf_train_accuracy, rf_test_accuracy)], \n                  columns=['Training Accuracy', 'Test Accuracy'], index=index)\ndf.plot.bar();",
    "id": "5810b6973ca646d7884f2bf412525df0",
    "idx": 62,
    "time": "2020-11-13T01:11:04.029Z",
    "type": "execution"
   },
   {
    "id": "5810b6973ca646d7884f2bf412525df0",
    "time": "2020-11-13T01:11:04.412Z",
    "type": "completion"
   },
   {
    "code": "grader.check_all()",
    "id": "9ddbb6bb588a441c9e4aa291f6c5947d",
    "idx": 68,
    "time": "2020-11-13T01:17:20.114Z",
    "type": "execution"
   },
   {
    "id": "9ddbb6bb588a441c9e4aa291f6c5947d",
    "time": "2020-11-13T01:17:20.493Z",
    "type": "completion"
   },
   {
    "code": "# Save your notebook first, then run this cell to export your submission.\ngrader.export(\"lab11.ipynb\", pdf=False)",
    "id": "7dbe014869354fdaae50e844ebb08104",
    "idx": 70,
    "time": "2020-11-13T01:17:24.603Z",
    "type": "execution"
   },
   {
    "id": "7dbe014869354fdaae50e844ebb08104",
    "time": "2020-11-13T01:17:24.687Z",
    "type": "completion"
   },
   {
    "code": "# Save your notebook first, then run this cell to export your submission.\ngrader.export(\"lab11.ipynb\", pdf=False)",
    "id": "7dbe014869354fdaae50e844ebb08104",
    "idx": 70,
    "time": "2020-11-13T01:17:33.611Z",
    "type": "execution"
   },
   {
    "id": "7dbe014869354fdaae50e844ebb08104",
    "time": "2020-11-13T01:17:33.773Z",
    "type": "completion"
   }
  ],
  "kernelspec": {
   "display_name": "Python 3",
   "language": "python",
   "name": "python3"
  },
  "language_info": {
   "codemirror_mode": {
    "name": "ipython",
    "version": 3
   },
   "file_extension": ".py",
   "mimetype": "text/x-python",
   "name": "python",
   "nbconvert_exporter": "python",
   "pygments_lexer": "ipython3",
   "version": "3.8.6"
  }
 },
 "nbformat": 4,
 "nbformat_minor": 2
}
